{
 "cells": [
  {
   "cell_type": "markdown",
   "id": "59b69ea3",
   "metadata": {},
   "source": [
    "# Creating Calendar Events with PydanticAI\n",
    "## A Step-by-Step Tutorial\n",
    "\n",
    "This tutorial will show you how to create a conversational AI assistant that helps users create calendar events and generate ICS files.\n",
    "\n",
    "### Setup and Dependencies\n",
    "\n",
    "First, let's install the required packages and import our dependencies:"
   ]
  },
  {
   "cell_type": "code",
   "execution_count": 3,
   "id": "ed196c36",
   "metadata": {},
   "outputs": [],
   "source": [
    "!uv pip install -q pydantic-ai  python-dotenv"
   ]
  },
  {
   "cell_type": "code",
   "execution_count": 4,
   "id": "78d68c81-163d-4575-aeb6-8c3a7293de36",
   "metadata": {},
   "outputs": [
    {
     "name": "stdout",
     "output_type": "stream",
     "text": [
      "\u001b[2mUsing Python 3.11.10 environment at /Users/rianders/Documents/notebooks/.venv\u001b[0m\n",
      "\u001b[2K  \u001b[31m×\u001b[0m No solution found when resolving dependencies:                                  \u001b[0m\n",
      "\u001b[31m  ╰─▶ \u001b[0mBecause zoneinfo was not found in the package registry and you require\n",
      "\u001b[31m      \u001b[0mzoneinfo, we can conclude that your requirements are unsatisfiable.\n"
     ]
    }
   ],
   "source": [
    "!uv pip install zoneinfo"
   ]
  },
  {
   "cell_type": "code",
   "execution_count": 5,
   "id": "389fdf8d-79a0-4d80-a987-f17c777cafa3",
   "metadata": {},
   "outputs": [],
   "source": [
    "import os\n",
    "from dotenv import load_dotenv\n",
    "import nest_asyncio\n",
    "\n",
    "import asyncio\n",
    "from datetime import datetime, timedelta\n",
    "from typing import Optional\n",
    "from pydantic_ai import RunContext, Tool, Agent\n",
    "from zoneinfo import ZoneInfo\n",
    "import uuid"
   ]
  },
  {
   "cell_type": "code",
   "execution_count": 6,
   "id": "dc4f1a76-fb8d-4217-896d-729b44c23adc",
   "metadata": {},
   "outputs": [],
   "source": [
    "# Load the environment variables from the .env file\n",
    "load_dotenv()\n",
    "\n",
    "# dotenv_path = join(dirname(__file__), '.env')\n",
    "# load_dotenv(dotenv_path)\n",
    "\n",
    "os.environ[\"ANTHROPIC_API_KEY\"] = os.environ.get(\"ANTHROPIC_KEY\")\n",
    "nest_asyncio.apply()"
   ]
  },
  {
   "cell_type": "markdown",
   "id": "b75d246d",
   "metadata": {},
   "source": [
    "### Step 1: Event Management Classes\n",
    "\n",
    "First, we'll create our event management class that will maintain the state of our calendar event:"
   ]
  },
  {
   "cell_type": "code",
   "execution_count": 7,
   "id": "c0e05ab3",
   "metadata": {},
   "outputs": [],
   "source": [
    "class EventDetails:\n",
    "    def __init__(self):\n",
    "        self.summary: Optional[str] = None\n",
    "        self.start_time: Optional[datetime] = None\n",
    "        self.end_time: Optional[datetime] = None\n",
    "        self.description: Optional[str] = None\n",
    "        self.location: Optional[str] = None\n",
    "        self.timezone: Optional[str] = None\n",
    "\n",
    "    def is_complete(self) -> tuple[bool, list[str]]:\n",
    "        missing = []\n",
    "        if not self.summary:\n",
    "            missing.append(\"event name/summary\")\n",
    "        if not self.start_time:\n",
    "            missing.append(\"start time\")\n",
    "        if not self.end_time:\n",
    "            missing.append(\"end time\")\n",
    "        if not self.timezone:\n",
    "            missing.append(\"timezone\")\n",
    "        return len(missing) == 0, missing\n",
    "\n",
    "    def reset(self):\n",
    "        self.__init__()\n",
    "\n",
    "# Create a global instance for our event state\n",
    "current_event = EventDetails()"
   ]
  },
  {
   "cell_type": "markdown",
   "id": "e4536f33",
   "metadata": {},
   "source": [
    "### Step 2: ICS File Generation\n",
    "\n",
    "Next, let's create the function that will generate our ICS file content:"
   ]
  },
  {
   "cell_type": "code",
   "execution_count": 8,
   "id": "5a479b49",
   "metadata": {},
   "outputs": [],
   "source": [
    "def create_ics_content(event: EventDetails) -> str:\n",
    "    \"\"\"Generate ICS file content from event details.\"\"\"\n",
    "    ics_content = [\n",
    "        \"BEGIN:VCALENDAR\",\n",
    "        \"VERSION:2.0\",\n",
    "        \"PRODID:-//PydanticAI//Calendar Tool//EN\",\n",
    "        \"BEGIN:VEVENT\",\n",
    "        f\"UID:{uuid.uuid4()}\",\n",
    "        f\"DTSTAMP:{datetime.now().strftime('%Y%m%dT%H%M%SZ')}\",\n",
    "        f\"DTSTART;TZID={event.timezone}:{event.start_time.strftime('%Y%m%dT%H%M%S')}\",\n",
    "        f\"DTEND;TZID={event.timezone}:{event.end_time.strftime('%Y%m%dT%H%M%S')}\",\n",
    "        f\"SUMMARY:{event.summary}\"\n",
    "    ]\n",
    "    \n",
    "    if event.description:\n",
    "        ics_content.append(f\"DESCRIPTION:{event.description}\")\n",
    "    if event.location:\n",
    "        ics_content.append(f\"LOCATION:{event.location}\")\n",
    "    \n",
    "    ics_content.extend([\n",
    "        \"END:VEVENT\",\n",
    "        \"END:VCALENDAR\"\n",
    "    ])\n",
    "    \n",
    "    return \"\\r\\n\".join(ics_content)"
   ]
  },
  {
   "cell_type": "markdown",
   "id": "9f0d8996",
   "metadata": {},
   "source": [
    "### Step 3: Tool Functions\n",
    "\n",
    "Now let's create our three main tool functions:"
   ]
  },
  {
   "cell_type": "code",
   "execution_count": 9,
   "id": "46ed2da9",
   "metadata": {},
   "outputs": [],
   "source": [
    "async def set_event_details(\n",
    "    ctx: RunContext[None],\n",
    "    field: str,\n",
    "    value: str\n",
    ") -> str:\n",
    "    \"\"\"Set a specific field for the event.\"\"\"\n",
    "    field = field.lower()\n",
    "    \n",
    "    if field == \"timezone\":\n",
    "        current_event.timezone = value\n",
    "        return f\"Set timezone to {value}\"\n",
    "    \n",
    "    elif field == \"summary\" or field == \"title\":\n",
    "        current_event.summary = value\n",
    "        return f\"Set event name to: {value}\"\n",
    "    \n",
    "    elif field == \"description\":\n",
    "        current_event.description = value\n",
    "        return f\"Set event description to: {value}\"\n",
    "    \n",
    "    elif field == \"location\":\n",
    "        current_event.location = value\n",
    "        return f\"Set event location to: {value}\"\n",
    "    \n",
    "    elif field == \"start_time\":\n",
    "        try:\n",
    "            if not current_event.timezone:\n",
    "                return \"Please set the timezone first before setting times.\"\n",
    "            \n",
    "            if \":\" in value:  # ISO format\n",
    "                dt = datetime.fromisoformat(value)\n",
    "            else:  # Natural language\n",
    "                dt = datetime.now(ZoneInfo(current_event.timezone))\n",
    "                if \"tomorrow\" in value.lower():\n",
    "                    dt += timedelta(days=1)\n",
    "            \n",
    "            current_event.start_time = dt\n",
    "            return f\"Set event start time to: {dt.strftime('%Y-%m-%d %H:%M %Z')}\"\n",
    "        except ValueError as e:\n",
    "            return f\"Error parsing start time: {str(e)}\"\n",
    "    \n",
    "    elif field == \"end_time\":\n",
    "        try:\n",
    "            if not current_event.timezone:\n",
    "                return \"Please set the timezone first before setting times.\"\n",
    "            \n",
    "            if \":\" in value:  # ISO format\n",
    "                dt = datetime.fromisoformat(value)\n",
    "            else:  # Natural language\n",
    "                dt = datetime.now(ZoneInfo(current_event.timezone))\n",
    "                if \"tomorrow\" in value.lower():\n",
    "                    dt += timedelta(days=1)\n",
    "            \n",
    "            current_event.end_time = dt\n",
    "            return f\"Set event end time to: {dt.strftime('%Y-%m-%d %H:%M %Z')}\"\n",
    "        except ValueError as e:\n",
    "            return f\"Error parsing end time: {str(e)}\"\n",
    "    \n",
    "    return f\"Unknown field: {field}\"\n",
    "\n",
    "async def check_event_status(ctx: RunContext[None]) -> str:\n",
    "    \"\"\"Check what information is still needed for the event.\"\"\"\n",
    "    is_complete, missing = current_event.is_complete()\n",
    "    \n",
    "    if is_complete:\n",
    "        return \"All required event details are set! You can now generate the ICS file.\"\n",
    "    else:\n",
    "        return f\"Still need the following information: {', '.join(missing)}\"\n",
    "\n",
    "async def generate_ics_file(ctx: RunContext[None]) -> str:\n",
    "    \"\"\"Generate an ICS file from the current event details.\"\"\"\n",
    "    is_complete, missing = current_event.is_complete()\n",
    "    \n",
    "    if not is_complete:\n",
    "        return f\"Cannot generate ICS file yet. Missing information: {', '.join(missing)}\"\n",
    "    \n",
    "    try:\n",
    "        ics_content = create_ics_content(current_event)\n",
    "        current_event.reset()  # Reset for next event\n",
    "        return f\"ICS file generated successfully:\\n\\n{ics_content}\"\n",
    "    except Exception as e:\n",
    "        return f\"Error generating ICS file: {str(e)}\""
   ]
  },
  {
   "cell_type": "markdown",
   "id": "71bcbef9",
   "metadata": {},
   "source": [
    "### Step 4: Creating the Tools\n",
    "\n",
    "Let's create our tool instances:"
   ]
  },
  {
   "cell_type": "code",
   "execution_count": 10,
   "id": "a33ac7ea",
   "metadata": {},
   "outputs": [],
   "source": [
    "# Create the tools\n",
    "set_event_tool = Tool(\n",
    "    set_event_details,\n",
    "    name=\"set_event_details\",\n",
    "    description=\"Set a specific detail for the event (timezone, summary, description, location, start_time, end_time)\"\n",
    ")\n",
    "\n",
    "check_status_tool = Tool(\n",
    "    check_event_status,\n",
    "    name=\"check_event_status\",\n",
    "    description=\"Check what information is still needed for the event\"\n",
    ")\n",
    "\n",
    "generate_ics_tool = Tool(\n",
    "    generate_ics_file,\n",
    "    name=\"generate_ics_file\",\n",
    "    description=\"Generate an ICS file from the current event details\"\n",
    ")"
   ]
  },
  {
   "cell_type": "markdown",
   "id": "88457373",
   "metadata": {},
   "source": [
    "### Step 5: Setting Up the Agent\n",
    "\n",
    "Now we'll create our Claude agent with the appropriate tools and system prompt:"
   ]
  },
  {
   "cell_type": "code",
   "execution_count": 11,
   "id": "eab16a37",
   "metadata": {},
   "outputs": [],
   "source": [
    "agent = Agent(\n",
    "    \"claude-3-5-sonnet-latest\",\n",
    "    tools=[set_event_tool, check_status_tool, generate_ics_tool],\n",
    "    system_prompt=\"\"\"You are a helpful assistant that creates calendar events. Guide users through creating an event by:\n",
    "    1. First ask for their timezone if not set\n",
    "    2. Ask for event name/summary\n",
    "    3. Ask for start and end times\n",
    "    4. Optionally ask for description and location\n",
    "    5. Generate the ICS file when all required information is provided\n",
    "    \n",
    "    Use these tools:\n",
    "    - set_event_details: Set specific field and value using set_event_details \n",
    "    - check_event_status: Check what information is still needed\n",
    "    - generate_ics_file: Create the final ICS file\n",
    "    \n",
    "    Be conversational but efficient in gathering information.\n",
    "    After each user response, use check_event_status to see what information is still needed.\n",
    "    Make sure to use set_event_details for each piece of information the user provides.\"\"\"\n",
    ")"
   ]
  },
  {
   "cell_type": "markdown",
   "id": "7810795f",
   "metadata": {},
   "source": [
    "### Step 6: Using the Agent\n",
    "\n",
    "Now let's try creating an event! Here's an example conversation flow:"
   ]
  },
  {
   "cell_type": "code",
   "execution_count": 13,
   "id": "8791ee4e-49f2-4e37-a555-3af07407c7b5",
   "metadata": {},
   "outputs": [
    {
     "name": "stdout",
     "output_type": "stream",
     "text": [
      "Assistant: Great, I've set your timezone to America/New_York. Now, what would you like to name your event? This will be the title or summary that appears on your calendar.\n"
     ]
    }
   ],
   "source": [
    "result = await agent.run(\"I'm in New York\")\n",
    "print(\"Assistant:\", result.data)"
   ]
  },
  {
   "cell_type": "code",
   "execution_count": 14,
   "id": "cda3f463-2a2c-4fd6-8d6c-bc5eaa84d394",
   "metadata": {},
   "outputs": [
    {
     "name": "stdout",
     "output_type": "stream",
     "text": [
      "Assistant: As I thought, we'll need several pieces of information. Let's start with your timezone so we can ensure all times are properly set.\n"
     ]
    }
   ],
   "source": [
    "result = await agent.run(\"Hi, I want to create a calendar event\")\n",
    "print(\"Assistant:\", result.data)"
   ]
  },
  {
   "cell_type": "code",
   "execution_count": 15,
   "id": "f1262712-85de-4ed2-a80d-da0802de57e1",
   "metadata": {},
   "outputs": [
    {
     "name": "stdout",
     "output_type": "stream",
     "text": [
      "Assistant: Great! Now, what would you like to name your event? This will be the title that appears in your calendar.\n"
     ]
    }
   ],
   "source": [
    "# Set timezone\n",
    "result = await agent.run(\"I'm in New York\")\n",
    "print(\"Assistant:\", result.data)"
   ]
  },
  {
   "cell_type": "code",
   "execution_count": 16,
   "id": "2c20b3b8-91a9-4c6f-b9f1-49494a6a4553",
   "metadata": {},
   "outputs": [
    {
     "name": "stdout",
     "output_type": "stream",
     "text": [
      "Assistant: First, I need to know your timezone to properly set the meeting time. What timezone are you in?\n",
      "\n",
      "Once you provide the timezone, I'll help set up the team meeting for tomorrow at 2 PM for one hour. I'll also add \"Team Meeting\" as the summary unless you'd like a different title for the meeting.\n",
      "\n",
      "Please let me know:\n",
      "1. Your timezone\n",
      "2. If you'd like a different title than \"Team Meeting\"\n"
     ]
    }
   ],
   "source": [
    "# Set event details\n",
    "result = await agent.run(\"I want to schedule a team meeting tomorrow at 2pm for one hour\")\n",
    "print(\"Assistant:\", result.data)"
   ]
  },
  {
   "cell_type": "code",
   "execution_count": 17,
   "id": "b7dc9fde-5022-4de8-b706-374b16da51bc",
   "metadata": {},
   "outputs": [
    {
     "ename": "BadRequestError",
     "evalue": "Error code: 400 - {'type': 'error', 'error': {'type': 'invalid_request_error', 'message': \"messages.2: the following `tool_use` ids were not found in `tool_result` blocks: {'toolu_01MPskBE38n72QSePEQ2AoRE'}\"}}",
     "output_type": "error",
     "traceback": [
      "\u001b[0;31m---------------------------------------------------------------------------\u001b[0m",
      "\u001b[0;31mBadRequestError\u001b[0m                           Traceback (most recent call last)",
      "Cell \u001b[0;32mIn[17], line 2\u001b[0m\n\u001b[1;32m      1\u001b[0m \u001b[38;5;66;03m# Add location\u001b[39;00m\n\u001b[0;32m----> 2\u001b[0m result \u001b[38;5;241m=\u001b[39m \u001b[38;5;28;01mawait\u001b[39;00m agent\u001b[38;5;241m.\u001b[39mrun(\u001b[38;5;124m\"\u001b[39m\u001b[38;5;124mIt\u001b[39m\u001b[38;5;124m'\u001b[39m\u001b[38;5;124ms in the conference room\u001b[39m\u001b[38;5;124m\"\u001b[39m)\n\u001b[1;32m      3\u001b[0m \u001b[38;5;28mprint\u001b[39m(\u001b[38;5;124m\"\u001b[39m\u001b[38;5;124mAssistant:\u001b[39m\u001b[38;5;124m\"\u001b[39m, result\u001b[38;5;241m.\u001b[39mdata)\n",
      "File \u001b[0;32m~/Documents/notebooks/.venv/lib/python3.11/site-packages/pydantic_ai/agent.py:258\u001b[0m, in \u001b[0;36mAgent.run\u001b[0;34m(self, user_prompt, message_history, model, deps, model_settings, usage_limits, usage, infer_name)\u001b[0m\n\u001b[1;32m    255\u001b[0m     agent_model \u001b[38;5;241m=\u001b[39m \u001b[38;5;28;01mawait\u001b[39;00m \u001b[38;5;28mself\u001b[39m\u001b[38;5;241m.\u001b[39m_prepare_model(run_context)\n\u001b[1;32m    257\u001b[0m \u001b[38;5;28;01mwith\u001b[39;00m _logfire\u001b[38;5;241m.\u001b[39mspan(\u001b[38;5;124m'\u001b[39m\u001b[38;5;124mmodel request\u001b[39m\u001b[38;5;124m'\u001b[39m, run_step\u001b[38;5;241m=\u001b[39mrun_context\u001b[38;5;241m.\u001b[39mrun_step) \u001b[38;5;28;01mas\u001b[39;00m model_req_span:\n\u001b[0;32m--> 258\u001b[0m     model_response, request_usage \u001b[38;5;241m=\u001b[39m \u001b[38;5;28;01mawait\u001b[39;00m agent_model\u001b[38;5;241m.\u001b[39mrequest(messages, model_settings)\n\u001b[1;32m    259\u001b[0m     model_req_span\u001b[38;5;241m.\u001b[39mset_attribute(\u001b[38;5;124m'\u001b[39m\u001b[38;5;124mresponse\u001b[39m\u001b[38;5;124m'\u001b[39m, model_response)\n\u001b[1;32m    260\u001b[0m     model_req_span\u001b[38;5;241m.\u001b[39mset_attribute(\u001b[38;5;124m'\u001b[39m\u001b[38;5;124musage\u001b[39m\u001b[38;5;124m'\u001b[39m, request_usage)\n",
      "File \u001b[0;32m~/Documents/notebooks/.venv/lib/python3.11/site-packages/pydantic_ai/models/anthropic.py:162\u001b[0m, in \u001b[0;36mAnthropicAgentModel.request\u001b[0;34m(self, messages, model_settings)\u001b[0m\n\u001b[1;32m    159\u001b[0m \u001b[38;5;28;01masync\u001b[39;00m \u001b[38;5;28;01mdef\u001b[39;00m \u001b[38;5;21mrequest\u001b[39m(\n\u001b[1;32m    160\u001b[0m     \u001b[38;5;28mself\u001b[39m, messages: \u001b[38;5;28mlist\u001b[39m[ModelMessage], model_settings: ModelSettings \u001b[38;5;241m|\u001b[39m \u001b[38;5;28;01mNone\u001b[39;00m\n\u001b[1;32m    161\u001b[0m ) \u001b[38;5;241m-\u001b[39m\u001b[38;5;241m>\u001b[39m \u001b[38;5;28mtuple\u001b[39m[ModelResponse, result\u001b[38;5;241m.\u001b[39mUsage]:\n\u001b[0;32m--> 162\u001b[0m     response \u001b[38;5;241m=\u001b[39m \u001b[38;5;28;01mawait\u001b[39;00m \u001b[38;5;28mself\u001b[39m\u001b[38;5;241m.\u001b[39m_messages_create(messages, \u001b[38;5;28;01mFalse\u001b[39;00m, model_settings)\n\u001b[1;32m    163\u001b[0m     \u001b[38;5;28;01mreturn\u001b[39;00m \u001b[38;5;28mself\u001b[39m\u001b[38;5;241m.\u001b[39m_process_response(response), _map_usage(response)\n",
      "File \u001b[0;32m~/Documents/notebooks/.venv/lib/python3.11/site-packages/pydantic_ai/models/anthropic.py:200\u001b[0m, in \u001b[0;36mAnthropicAgentModel._messages_create\u001b[0;34m(self, messages, stream, model_settings)\u001b[0m\n\u001b[1;32m    196\u001b[0m system_prompt, anthropic_messages \u001b[38;5;241m=\u001b[39m \u001b[38;5;28mself\u001b[39m\u001b[38;5;241m.\u001b[39m_map_message(messages)\n\u001b[1;32m    198\u001b[0m model_settings \u001b[38;5;241m=\u001b[39m model_settings \u001b[38;5;129;01mor\u001b[39;00m {}\n\u001b[0;32m--> 200\u001b[0m \u001b[38;5;28;01mreturn\u001b[39;00m \u001b[38;5;28;01mawait\u001b[39;00m \u001b[38;5;28mself\u001b[39m\u001b[38;5;241m.\u001b[39mclient\u001b[38;5;241m.\u001b[39mmessages\u001b[38;5;241m.\u001b[39mcreate(\n\u001b[1;32m    201\u001b[0m     max_tokens\u001b[38;5;241m=\u001b[39mmodel_settings\u001b[38;5;241m.\u001b[39mget(\u001b[38;5;124m'\u001b[39m\u001b[38;5;124mmax_tokens\u001b[39m\u001b[38;5;124m'\u001b[39m, \u001b[38;5;241m1024\u001b[39m),\n\u001b[1;32m    202\u001b[0m     system\u001b[38;5;241m=\u001b[39msystem_prompt \u001b[38;5;129;01mor\u001b[39;00m NOT_GIVEN,\n\u001b[1;32m    203\u001b[0m     messages\u001b[38;5;241m=\u001b[39manthropic_messages,\n\u001b[1;32m    204\u001b[0m     model\u001b[38;5;241m=\u001b[39m\u001b[38;5;28mself\u001b[39m\u001b[38;5;241m.\u001b[39mmodel_name,\n\u001b[1;32m    205\u001b[0m     tools\u001b[38;5;241m=\u001b[39m\u001b[38;5;28mself\u001b[39m\u001b[38;5;241m.\u001b[39mtools \u001b[38;5;129;01mor\u001b[39;00m NOT_GIVEN,\n\u001b[1;32m    206\u001b[0m     tool_choice\u001b[38;5;241m=\u001b[39mtool_choice \u001b[38;5;129;01mor\u001b[39;00m NOT_GIVEN,\n\u001b[1;32m    207\u001b[0m     stream\u001b[38;5;241m=\u001b[39mstream,\n\u001b[1;32m    208\u001b[0m     temperature\u001b[38;5;241m=\u001b[39mmodel_settings\u001b[38;5;241m.\u001b[39mget(\u001b[38;5;124m'\u001b[39m\u001b[38;5;124mtemperature\u001b[39m\u001b[38;5;124m'\u001b[39m, NOT_GIVEN),\n\u001b[1;32m    209\u001b[0m     top_p\u001b[38;5;241m=\u001b[39mmodel_settings\u001b[38;5;241m.\u001b[39mget(\u001b[38;5;124m'\u001b[39m\u001b[38;5;124mtop_p\u001b[39m\u001b[38;5;124m'\u001b[39m, NOT_GIVEN),\n\u001b[1;32m    210\u001b[0m     timeout\u001b[38;5;241m=\u001b[39mmodel_settings\u001b[38;5;241m.\u001b[39mget(\u001b[38;5;124m'\u001b[39m\u001b[38;5;124mtimeout\u001b[39m\u001b[38;5;124m'\u001b[39m, NOT_GIVEN),\n\u001b[1;32m    211\u001b[0m )\n",
      "File \u001b[0;32m~/Documents/notebooks/.venv/lib/python3.11/site-packages/anthropic/resources/messages/messages.py:2051\u001b[0m, in \u001b[0;36mAsyncMessages.create\u001b[0;34m(self, max_tokens, messages, model, metadata, stop_sequences, stream, system, temperature, tool_choice, tools, top_k, top_p, extra_headers, extra_query, extra_body, timeout)\u001b[0m\n\u001b[1;32m   2044\u001b[0m \u001b[38;5;28;01mif\u001b[39;00m model \u001b[38;5;129;01min\u001b[39;00m DEPRECATED_MODELS:\n\u001b[1;32m   2045\u001b[0m     warnings\u001b[38;5;241m.\u001b[39mwarn(\n\u001b[1;32m   2046\u001b[0m         \u001b[38;5;124mf\u001b[39m\u001b[38;5;124m\"\u001b[39m\u001b[38;5;124mThe model \u001b[39m\u001b[38;5;124m'\u001b[39m\u001b[38;5;132;01m{\u001b[39;00mmodel\u001b[38;5;132;01m}\u001b[39;00m\u001b[38;5;124m'\u001b[39m\u001b[38;5;124m is deprecated and will reach end-of-life on \u001b[39m\u001b[38;5;132;01m{\u001b[39;00mDEPRECATED_MODELS[model]\u001b[38;5;132;01m}\u001b[39;00m\u001b[38;5;124m.\u001b[39m\u001b[38;5;130;01m\\n\u001b[39;00m\u001b[38;5;124mPlease migrate to a newer model. Visit https://docs.anthropic.com/en/docs/resources/model-deprecations for more information.\u001b[39m\u001b[38;5;124m\"\u001b[39m,\n\u001b[1;32m   2047\u001b[0m         \u001b[38;5;167;01mDeprecationWarning\u001b[39;00m,\n\u001b[1;32m   2048\u001b[0m         stacklevel\u001b[38;5;241m=\u001b[39m\u001b[38;5;241m3\u001b[39m,\n\u001b[1;32m   2049\u001b[0m     )\n\u001b[0;32m-> 2051\u001b[0m \u001b[38;5;28;01mreturn\u001b[39;00m \u001b[38;5;28;01mawait\u001b[39;00m \u001b[38;5;28mself\u001b[39m\u001b[38;5;241m.\u001b[39m_post(\n\u001b[1;32m   2052\u001b[0m     \u001b[38;5;124m\"\u001b[39m\u001b[38;5;124m/v1/messages\u001b[39m\u001b[38;5;124m\"\u001b[39m,\n\u001b[1;32m   2053\u001b[0m     body\u001b[38;5;241m=\u001b[39m\u001b[38;5;28;01mawait\u001b[39;00m async_maybe_transform(\n\u001b[1;32m   2054\u001b[0m         {\n\u001b[1;32m   2055\u001b[0m             \u001b[38;5;124m\"\u001b[39m\u001b[38;5;124mmax_tokens\u001b[39m\u001b[38;5;124m\"\u001b[39m: max_tokens,\n\u001b[1;32m   2056\u001b[0m             \u001b[38;5;124m\"\u001b[39m\u001b[38;5;124mmessages\u001b[39m\u001b[38;5;124m\"\u001b[39m: messages,\n\u001b[1;32m   2057\u001b[0m             \u001b[38;5;124m\"\u001b[39m\u001b[38;5;124mmodel\u001b[39m\u001b[38;5;124m\"\u001b[39m: model,\n\u001b[1;32m   2058\u001b[0m             \u001b[38;5;124m\"\u001b[39m\u001b[38;5;124mmetadata\u001b[39m\u001b[38;5;124m\"\u001b[39m: metadata,\n\u001b[1;32m   2059\u001b[0m             \u001b[38;5;124m\"\u001b[39m\u001b[38;5;124mstop_sequences\u001b[39m\u001b[38;5;124m\"\u001b[39m: stop_sequences,\n\u001b[1;32m   2060\u001b[0m             \u001b[38;5;124m\"\u001b[39m\u001b[38;5;124mstream\u001b[39m\u001b[38;5;124m\"\u001b[39m: stream,\n\u001b[1;32m   2061\u001b[0m             \u001b[38;5;124m\"\u001b[39m\u001b[38;5;124msystem\u001b[39m\u001b[38;5;124m\"\u001b[39m: system,\n\u001b[1;32m   2062\u001b[0m             \u001b[38;5;124m\"\u001b[39m\u001b[38;5;124mtemperature\u001b[39m\u001b[38;5;124m\"\u001b[39m: temperature,\n\u001b[1;32m   2063\u001b[0m             \u001b[38;5;124m\"\u001b[39m\u001b[38;5;124mtool_choice\u001b[39m\u001b[38;5;124m\"\u001b[39m: tool_choice,\n\u001b[1;32m   2064\u001b[0m             \u001b[38;5;124m\"\u001b[39m\u001b[38;5;124mtools\u001b[39m\u001b[38;5;124m\"\u001b[39m: tools,\n\u001b[1;32m   2065\u001b[0m             \u001b[38;5;124m\"\u001b[39m\u001b[38;5;124mtop_k\u001b[39m\u001b[38;5;124m\"\u001b[39m: top_k,\n\u001b[1;32m   2066\u001b[0m             \u001b[38;5;124m\"\u001b[39m\u001b[38;5;124mtop_p\u001b[39m\u001b[38;5;124m\"\u001b[39m: top_p,\n\u001b[1;32m   2067\u001b[0m         },\n\u001b[1;32m   2068\u001b[0m         message_create_params\u001b[38;5;241m.\u001b[39mMessageCreateParams,\n\u001b[1;32m   2069\u001b[0m     ),\n\u001b[1;32m   2070\u001b[0m     options\u001b[38;5;241m=\u001b[39mmake_request_options(\n\u001b[1;32m   2071\u001b[0m         extra_headers\u001b[38;5;241m=\u001b[39mextra_headers, extra_query\u001b[38;5;241m=\u001b[39mextra_query, extra_body\u001b[38;5;241m=\u001b[39mextra_body, timeout\u001b[38;5;241m=\u001b[39mtimeout\n\u001b[1;32m   2072\u001b[0m     ),\n\u001b[1;32m   2073\u001b[0m     cast_to\u001b[38;5;241m=\u001b[39mMessage,\n\u001b[1;32m   2074\u001b[0m     stream\u001b[38;5;241m=\u001b[39mstream \u001b[38;5;129;01mor\u001b[39;00m \u001b[38;5;28;01mFalse\u001b[39;00m,\n\u001b[1;32m   2075\u001b[0m     stream_cls\u001b[38;5;241m=\u001b[39mAsyncStream[RawMessageStreamEvent],\n\u001b[1;32m   2076\u001b[0m )\n",
      "File \u001b[0;32m~/Documents/notebooks/.venv/lib/python3.11/site-packages/anthropic/_base_client.py:1842\u001b[0m, in \u001b[0;36mAsyncAPIClient.post\u001b[0;34m(self, path, cast_to, body, files, options, stream, stream_cls)\u001b[0m\n\u001b[1;32m   1828\u001b[0m \u001b[38;5;28;01masync\u001b[39;00m \u001b[38;5;28;01mdef\u001b[39;00m \u001b[38;5;21mpost\u001b[39m(\n\u001b[1;32m   1829\u001b[0m     \u001b[38;5;28mself\u001b[39m,\n\u001b[1;32m   1830\u001b[0m     path: \u001b[38;5;28mstr\u001b[39m,\n\u001b[0;32m   (...)\u001b[0m\n\u001b[1;32m   1837\u001b[0m     stream_cls: \u001b[38;5;28mtype\u001b[39m[_AsyncStreamT] \u001b[38;5;241m|\u001b[39m \u001b[38;5;28;01mNone\u001b[39;00m \u001b[38;5;241m=\u001b[39m \u001b[38;5;28;01mNone\u001b[39;00m,\n\u001b[1;32m   1838\u001b[0m ) \u001b[38;5;241m-\u001b[39m\u001b[38;5;241m>\u001b[39m ResponseT \u001b[38;5;241m|\u001b[39m _AsyncStreamT:\n\u001b[1;32m   1839\u001b[0m     opts \u001b[38;5;241m=\u001b[39m FinalRequestOptions\u001b[38;5;241m.\u001b[39mconstruct(\n\u001b[1;32m   1840\u001b[0m         method\u001b[38;5;241m=\u001b[39m\u001b[38;5;124m\"\u001b[39m\u001b[38;5;124mpost\u001b[39m\u001b[38;5;124m\"\u001b[39m, url\u001b[38;5;241m=\u001b[39mpath, json_data\u001b[38;5;241m=\u001b[39mbody, files\u001b[38;5;241m=\u001b[39m\u001b[38;5;28;01mawait\u001b[39;00m async_to_httpx_files(files), \u001b[38;5;241m*\u001b[39m\u001b[38;5;241m*\u001b[39moptions\n\u001b[1;32m   1841\u001b[0m     )\n\u001b[0;32m-> 1842\u001b[0m     \u001b[38;5;28;01mreturn\u001b[39;00m \u001b[38;5;28;01mawait\u001b[39;00m \u001b[38;5;28mself\u001b[39m\u001b[38;5;241m.\u001b[39mrequest(cast_to, opts, stream\u001b[38;5;241m=\u001b[39mstream, stream_cls\u001b[38;5;241m=\u001b[39mstream_cls)\n",
      "File \u001b[0;32m~/Documents/notebooks/.venv/lib/python3.11/site-packages/anthropic/_base_client.py:1536\u001b[0m, in \u001b[0;36mAsyncAPIClient.request\u001b[0;34m(self, cast_to, options, stream, stream_cls, remaining_retries)\u001b[0m\n\u001b[1;32m   1533\u001b[0m \u001b[38;5;28;01melse\u001b[39;00m:\n\u001b[1;32m   1534\u001b[0m     retries_taken \u001b[38;5;241m=\u001b[39m \u001b[38;5;241m0\u001b[39m\n\u001b[0;32m-> 1536\u001b[0m \u001b[38;5;28;01mreturn\u001b[39;00m \u001b[38;5;28;01mawait\u001b[39;00m \u001b[38;5;28mself\u001b[39m\u001b[38;5;241m.\u001b[39m_request(\n\u001b[1;32m   1537\u001b[0m     cast_to\u001b[38;5;241m=\u001b[39mcast_to,\n\u001b[1;32m   1538\u001b[0m     options\u001b[38;5;241m=\u001b[39moptions,\n\u001b[1;32m   1539\u001b[0m     stream\u001b[38;5;241m=\u001b[39mstream,\n\u001b[1;32m   1540\u001b[0m     stream_cls\u001b[38;5;241m=\u001b[39mstream_cls,\n\u001b[1;32m   1541\u001b[0m     retries_taken\u001b[38;5;241m=\u001b[39mretries_taken,\n\u001b[1;32m   1542\u001b[0m )\n",
      "File \u001b[0;32m~/Documents/notebooks/.venv/lib/python3.11/site-packages/anthropic/_base_client.py:1637\u001b[0m, in \u001b[0;36mAsyncAPIClient._request\u001b[0;34m(self, cast_to, options, stream, stream_cls, retries_taken)\u001b[0m\n\u001b[1;32m   1634\u001b[0m         \u001b[38;5;28;01mawait\u001b[39;00m err\u001b[38;5;241m.\u001b[39mresponse\u001b[38;5;241m.\u001b[39maread()\n\u001b[1;32m   1636\u001b[0m     log\u001b[38;5;241m.\u001b[39mdebug(\u001b[38;5;124m\"\u001b[39m\u001b[38;5;124mRe-raising status error\u001b[39m\u001b[38;5;124m\"\u001b[39m)\n\u001b[0;32m-> 1637\u001b[0m     \u001b[38;5;28;01mraise\u001b[39;00m \u001b[38;5;28mself\u001b[39m\u001b[38;5;241m.\u001b[39m_make_status_error_from_response(err\u001b[38;5;241m.\u001b[39mresponse) \u001b[38;5;28;01mfrom\u001b[39;00m \u001b[38;5;28;01mNone\u001b[39;00m\n\u001b[1;32m   1639\u001b[0m \u001b[38;5;28;01mreturn\u001b[39;00m \u001b[38;5;28;01mawait\u001b[39;00m \u001b[38;5;28mself\u001b[39m\u001b[38;5;241m.\u001b[39m_process_response(\n\u001b[1;32m   1640\u001b[0m     cast_to\u001b[38;5;241m=\u001b[39mcast_to,\n\u001b[1;32m   1641\u001b[0m     options\u001b[38;5;241m=\u001b[39moptions,\n\u001b[0;32m   (...)\u001b[0m\n\u001b[1;32m   1645\u001b[0m     retries_taken\u001b[38;5;241m=\u001b[39mretries_taken,\n\u001b[1;32m   1646\u001b[0m )\n",
      "\u001b[0;31mBadRequestError\u001b[0m: Error code: 400 - {'type': 'error', 'error': {'type': 'invalid_request_error', 'message': \"messages.2: the following `tool_use` ids were not found in `tool_result` blocks: {'toolu_01MPskBE38n72QSePEQ2AoRE'}\"}}"
     ]
    }
   ],
   "source": [
    "# Add location\n",
    "result = await agent.run(\"It's in the conference room\")\n",
    "print(\"Assistant:\", result.data)"
   ]
  },
  {
   "cell_type": "code",
   "execution_count": 18,
   "id": "4ecd83df-557d-4ef3-8655-284e501e82cc",
   "metadata": {},
   "outputs": [
    {
     "name": "stdout",
     "output_type": "stream",
     "text": [
      "Assistant: I see we don't have any event details yet! Let's start from the beginning. First, I need to know your timezone to ensure the event times are set correctly.\n",
      "\n",
      "What timezone are you in? (For example: America/New_York, Europe/London, etc.)\n"
     ]
    }
   ],
   "source": [
    "# Generate ICS file\n",
    "result = await agent.run(\"That's all the details, please create the calendar event\")\n",
    "print(\"Assistant:\", result.data)"
   ]
  },
  {
   "cell_type": "code",
   "execution_count": 19,
   "id": "f6f012e2",
   "metadata": {},
   "outputs": [],
   "source": [
    "# Start the conversation\n",
    "\n",
    "\n",
    "\n",
    "\n",
    "\n",
    "\n",
    "\n",
    "\n"
   ]
  },
  {
   "cell_type": "markdown",
   "id": "2e7943d9",
   "metadata": {},
   "source": [
    "### Try it yourself!\n",
    "\n",
    "Now you can try creating your own calendar events. Start with:"
   ]
  },
  {
   "cell_type": "code",
   "execution_count": null,
   "id": "b96f9793",
   "metadata": {},
   "outputs": [],
   "source": [
    "result = await agent.run(\"I want to create a calendar event\")\n",
    "print(\"Assistant:\", result.data)\n",
    "\n",
    "# Then respond to the assistant's questions..."
   ]
  },
  {
   "cell_type": "markdown",
   "id": "ff6a8941",
   "metadata": {},
   "source": [
    "### Tips for Usage:\n",
    "\n",
    "1. Always start by providing your timezone\n",
    "2. Be specific about dates and times\n",
    "3. You can provide multiple pieces of information in one message\n",
    "4. Use the generated ICS content with any calendar application that supports iCalendar format\n",
    "\n",
    "### Common Questions:\n",
    "\n",
    "**Q: What time formats are supported?**\n",
    "A: The tool supports both ISO format (e.g., \"2024-01-04T14:00:00\") and some natural language (e.g., \"tomorrow at 2pm\").\n",
    "\n",
    "**Q: What information is required?**\n",
    "A: Required fields are: timezone, summary (event name), start time, and end time. Description and location are optional.\n",
    "\n",
    "**Q: Can I modify an event after starting to create it?**\n",
    "A: Yes, you can update any field by providing new information before generating the ICS file.\n",
    "\n",
    "### Next Steps\n",
    "\n",
    "You can enhance this tutorial by:\n",
    "1. Adding more natural language time parsing\n",
    "2. Supporting recurring events\n",
    "3. Adding validation for business hours\n",
    "4. Implementing calendar checking for conflicts\n",
    "5. Adding support for attendees and reminders"
   ]
  }
 ],
 "metadata": {
  "jupytext": {
   "cell_metadata_filter": "-all",
   "main_language": "python",
   "notebook_metadata_filter": "-all"
  },
  "kernelspec": {
   "display_name": "Python 3 (ipykernel)",
   "language": "python",
   "name": "python3"
  },
  "language_info": {
   "codemirror_mode": {
    "name": "ipython",
    "version": 3
   },
   "file_extension": ".py",
   "mimetype": "text/x-python",
   "name": "python",
   "nbconvert_exporter": "python",
   "pygments_lexer": "ipython3",
   "version": "3.11.10"
  }
 },
 "nbformat": 4,
 "nbformat_minor": 5
}
