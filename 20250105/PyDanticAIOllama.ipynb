{
 "cells": [
  {
   "cell_type": "markdown",
   "id": "c1d0afe0-fabc-429c-ac4c-467983d761d2",
   "metadata": {},
   "source": [
    "# Tailored Tutorial\n",
    "\n",
    "Tutorial\n",
    " \n",
    "https://medium.com/@naresh.kancharla/pydantic-ai-ai-agent-library-021e7983d4c8\n",
    "\n",
    "Ollama Local usage documentation\n",
    "\n",
    " https://ai.pydantic.dev/api/models/ollama\n"
   ]
  },
  {
   "cell_type": "code",
   "execution_count": 1,
   "id": "d4ce6089-8ad1-42c8-a3ca-6f7df349c134",
   "metadata": {},
   "outputs": [
    {
     "name": "stdout",
     "output_type": "stream",
     "text": [
      "\u001b[2mUsing Python 3.11.10 environment at /Users/rianders/Documents/notebooks/.venv\u001b[0m\n",
      "\u001b[2mAudited \u001b[1m1 package\u001b[0m \u001b[2min 18ms\u001b[0m\u001b[0m\n",
      "\u001b[2mUsing Python 3.11.10 environment at /Users/rianders/Documents/notebooks/.venv\u001b[0m\n",
      "\u001b[2mAudited \u001b[1m1 package\u001b[0m \u001b[2min 2ms\u001b[0m\u001b[0m\n"
     ]
    }
   ],
   "source": [
    "!uv pip install pydantic-ai\n",
    "!uv pip install pydantic-ai-slim \n",
    "\n"
   ]
  },
  {
   "cell_type": "code",
   "execution_count": 2,
   "id": "f3a45182-e51f-496a-948c-2085c75cea09",
   "metadata": {},
   "outputs": [],
   "source": [
    "# notebooks % ollama run llama3.2-vision:latest\n",
    "from pydantic_ai import Agent\n",
    "import nest_asyncio\n",
    "import asyncio\n",
    "\n",
    "from pprint import pprint\n"
   ]
  },
  {
   "cell_type": "code",
   "execution_count": 3,
   "id": "b8fb2fe5-63d0-4f6c-9be3-467b9bed302e",
   "metadata": {},
   "outputs": [
    {
     "name": "stdout",
     "output_type": "stream",
     "text": [
      "The 2012 Summer Olympics took place in London, United Kingdom. Specifically, the events were held across various venues in London, including:\n",
      "\n",
      "* Olympic Stadium\n",
      "* Wembley Stadium\n",
      "* Hampden Park (Scotland)\n",
      "* Lord's Cricket Ground\n",
      "* Riverbank Centre for Performing Arts\n",
      "* Alexandra Palace\n",
      "* London Stadium\n",
      "\n",
      "The Paralympic Games, which took place from September 29 to October 9, 2012, were also held in London.\n"
     ]
    }
   ],
   "source": [
    "# llama3.2-vision:latest doesn't support tool calling\n",
    "# llama3.2 should support tool calling\n",
    "\n",
    "\n",
    "\n",
    "# Apply nest_asyncio first\n",
    "nest_asyncio.apply()\n",
    "\n",
    "ask_agent = Agent(  \n",
    "    'ollama:llama3.2:3b',\n",
    "    #system_prompt='Be concise, reply with one sentence.',  \n",
    ")\n",
    "\n",
    "result = ask_agent.run_sync('Where were the olympics held in 2012 ?')  \n",
    "print(result.data)"
   ]
  },
  {
   "cell_type": "code",
   "execution_count": 4,
   "id": "85d88118-871f-4f81-8ad5-adf81eb924db",
   "metadata": {},
   "outputs": [],
   "source": [
    "from pydantic import BaseModel\n"
   ]
  },
  {
   "cell_type": "code",
   "execution_count": 5,
   "id": "57800472-05bf-405d-827e-079abd9088ae",
   "metadata": {},
   "outputs": [],
   "source": [
    "class CityLocation(BaseModel):\n",
    "    city: str\n",
    "    country: str\n",
    "\n",
    "city_country_agent = Agent('ollama:llama3.2:3b', \n",
    "                       result_type=CityLocation)\n",
    "\n"
   ]
  },
  {
   "cell_type": "code",
   "execution_count": 6,
   "id": "73355c3f-ce63-4873-8b97-1a985834adc8",
   "metadata": {},
   "outputs": [
    {
     "name": "stdout",
     "output_type": "stream",
     "text": [
      "city='London' country='United Kingdom'\n"
     ]
    }
   ],
   "source": [
    "result = city_country_agent.run_sync('Which city and country were the olympics held in 2012?')\n",
    "print(result.data)"
   ]
  },
  {
   "cell_type": "code",
   "execution_count": 9,
   "id": "dd8b45d3-b27c-430a-ade7-ac6a5fc96497",
   "metadata": {},
   "outputs": [
    {
     "name": "stdout",
     "output_type": "stream",
     "text": [
      "I couldn't find any information on \"Fair use Building and Research Labs\" or \"FUBAR Labs\". However, I did find information on the \"FUBAR Labs\", which is a makerspace with multiple locations. \n",
      "\n",
      "There are a few places that go by FUBAR labs: there's one in Kansas City, Missouri, USA; another in Denver Colorado; and also Seattle Washington\n",
      "city='Fair use' country='Building and Research Labsor Fubar labs  maker space: FUBAR Labs'\n"
     ]
    }
   ],
   "source": [
    "result = ask_agent.run_sync('Where is Fair use Building and Research Labs or FUBAR Labs maker space located?')\n",
    "print(result.data)\n",
    "result = city_country_agent.run_sync('Where is Fair use Building and Research Labsor FUBAR Labs  maker space located?')\n",
    "print(result.data)"
   ]
  },
  {
   "cell_type": "code",
   "execution_count": 10,
   "id": "93afe9c3-f712-46d3-8b2a-23b6e2385f69",
   "metadata": {},
   "outputs": [
    {
     "name": "stdout",
     "output_type": "stream",
     "text": [
      "The coordinates 40°27'33\"N 74°29'02\"W are located in the United States. However, I cannot determine which city they are associated with without additional information.\n"
     ]
    }
   ],
   "source": [
    "coordinates = \"40°27'33\\\"N 74°29'02\\\"W\"\n",
    "\n",
    "result = ask_agent.run_sync(f'What country and city are these coordinates in: {coordinates}?')\n",
    "print(result.data)\n",
    "\n",
    "\n"
   ]
  },
  {
   "cell_type": "code",
   "execution_count": 11,
   "id": "24df87f4-c61b-4c86-adb8-a2272b9b70ff",
   "metadata": {},
   "outputs": [
    {
     "ename": "UnexpectedModelBehavior",
     "evalue": "Exceeded maximum retries (1) for result validation",
     "output_type": "error",
     "traceback": [
      "\u001b[0;31m---------------------------------------------------------------------------\u001b[0m",
      "\u001b[0;31mUnexpectedModelBehavior\u001b[0m                   Traceback (most recent call last)",
      "Cell \u001b[0;32mIn[11], line 1\u001b[0m\n\u001b[0;32m----> 1\u001b[0m result \u001b[38;5;241m=\u001b[39m \u001b[43mcity_country_agent\u001b[49m\u001b[38;5;241;43m.\u001b[39;49m\u001b[43mrun_sync\u001b[49m\u001b[43m(\u001b[49m\u001b[38;5;124;43mf\u001b[39;49m\u001b[38;5;124;43m'\u001b[39;49m\u001b[38;5;124;43mWhat country and city are these coordinates in:  \u001b[39;49m\u001b[38;5;132;43;01m{\u001b[39;49;00m\u001b[43mcoordinates\u001b[49m\u001b[38;5;132;43;01m}\u001b[39;49;00m\u001b[38;5;124;43m?\u001b[39;49m\u001b[38;5;124;43m'\u001b[39;49m\u001b[43m)\u001b[49m\n\u001b[1;32m      2\u001b[0m \u001b[38;5;28mprint\u001b[39m(result\u001b[38;5;241m.\u001b[39mdata)\n\u001b[1;32m      3\u001b[0m \u001b[38;5;28mprint\u001b[39m(result\u001b[38;5;241m.\u001b[39musage())\n",
      "File \u001b[0;32m~/Documents/notebooks/.venv/lib/python3.11/site-packages/pydantic_ai/agent.py:334\u001b[0m, in \u001b[0;36mAgent.run_sync\u001b[0;34m(self, user_prompt, message_history, model, deps, model_settings, usage_limits, usage, infer_name)\u001b[0m\n\u001b[1;32m    332\u001b[0m \u001b[38;5;28;01mif\u001b[39;00m infer_name \u001b[38;5;129;01mand\u001b[39;00m \u001b[38;5;28mself\u001b[39m\u001b[38;5;241m.\u001b[39mname \u001b[38;5;129;01mis\u001b[39;00m \u001b[38;5;28;01mNone\u001b[39;00m:\n\u001b[1;32m    333\u001b[0m     \u001b[38;5;28mself\u001b[39m\u001b[38;5;241m.\u001b[39m_infer_name(inspect\u001b[38;5;241m.\u001b[39mcurrentframe())\n\u001b[0;32m--> 334\u001b[0m \u001b[38;5;28;01mreturn\u001b[39;00m \u001b[43masyncio\u001b[49m\u001b[38;5;241;43m.\u001b[39;49m\u001b[43mget_event_loop\u001b[49m\u001b[43m(\u001b[49m\u001b[43m)\u001b[49m\u001b[38;5;241;43m.\u001b[39;49m\u001b[43mrun_until_complete\u001b[49m\u001b[43m(\u001b[49m\n\u001b[1;32m    335\u001b[0m \u001b[43m    \u001b[49m\u001b[38;5;28;43mself\u001b[39;49m\u001b[38;5;241;43m.\u001b[39;49m\u001b[43mrun\u001b[49m\u001b[43m(\u001b[49m\n\u001b[1;32m    336\u001b[0m \u001b[43m        \u001b[49m\u001b[43muser_prompt\u001b[49m\u001b[43m,\u001b[49m\n\u001b[1;32m    337\u001b[0m \u001b[43m        \u001b[49m\u001b[43mmessage_history\u001b[49m\u001b[38;5;241;43m=\u001b[39;49m\u001b[43mmessage_history\u001b[49m\u001b[43m,\u001b[49m\n\u001b[1;32m    338\u001b[0m \u001b[43m        \u001b[49m\u001b[43mmodel\u001b[49m\u001b[38;5;241;43m=\u001b[39;49m\u001b[43mmodel\u001b[49m\u001b[43m,\u001b[49m\n\u001b[1;32m    339\u001b[0m \u001b[43m        \u001b[49m\u001b[43mdeps\u001b[49m\u001b[38;5;241;43m=\u001b[39;49m\u001b[43mdeps\u001b[49m\u001b[43m,\u001b[49m\n\u001b[1;32m    340\u001b[0m \u001b[43m        \u001b[49m\u001b[43mmodel_settings\u001b[49m\u001b[38;5;241;43m=\u001b[39;49m\u001b[43mmodel_settings\u001b[49m\u001b[43m,\u001b[49m\n\u001b[1;32m    341\u001b[0m \u001b[43m        \u001b[49m\u001b[43musage_limits\u001b[49m\u001b[38;5;241;43m=\u001b[39;49m\u001b[43musage_limits\u001b[49m\u001b[43m,\u001b[49m\n\u001b[1;32m    342\u001b[0m \u001b[43m        \u001b[49m\u001b[43musage\u001b[49m\u001b[38;5;241;43m=\u001b[39;49m\u001b[43musage\u001b[49m\u001b[43m,\u001b[49m\n\u001b[1;32m    343\u001b[0m \u001b[43m        \u001b[49m\u001b[43minfer_name\u001b[49m\u001b[38;5;241;43m=\u001b[39;49m\u001b[38;5;28;43;01mFalse\u001b[39;49;00m\u001b[43m,\u001b[49m\n\u001b[1;32m    344\u001b[0m \u001b[43m    \u001b[49m\u001b[43m)\u001b[49m\n\u001b[1;32m    345\u001b[0m \u001b[43m\u001b[49m\u001b[43m)\u001b[49m\n",
      "File \u001b[0;32m~/Documents/notebooks/.venv/lib/python3.11/site-packages/nest_asyncio.py:98\u001b[0m, in \u001b[0;36m_patch_loop.<locals>.run_until_complete\u001b[0;34m(self, future)\u001b[0m\n\u001b[1;32m     95\u001b[0m \u001b[38;5;28;01mif\u001b[39;00m \u001b[38;5;129;01mnot\u001b[39;00m f\u001b[38;5;241m.\u001b[39mdone():\n\u001b[1;32m     96\u001b[0m     \u001b[38;5;28;01mraise\u001b[39;00m \u001b[38;5;167;01mRuntimeError\u001b[39;00m(\n\u001b[1;32m     97\u001b[0m         \u001b[38;5;124m'\u001b[39m\u001b[38;5;124mEvent loop stopped before Future completed.\u001b[39m\u001b[38;5;124m'\u001b[39m)\n\u001b[0;32m---> 98\u001b[0m \u001b[38;5;28;01mreturn\u001b[39;00m \u001b[43mf\u001b[49m\u001b[38;5;241;43m.\u001b[39;49m\u001b[43mresult\u001b[49m\u001b[43m(\u001b[49m\u001b[43m)\u001b[49m\n",
      "File \u001b[0;32m~/.local/share/uv/python/cpython-3.11.10-macos-aarch64-none/lib/python3.11/asyncio/futures.py:203\u001b[0m, in \u001b[0;36mFuture.result\u001b[0;34m(self)\u001b[0m\n\u001b[1;32m    201\u001b[0m \u001b[38;5;28mself\u001b[39m\u001b[38;5;241m.\u001b[39m__log_traceback \u001b[38;5;241m=\u001b[39m \u001b[38;5;28;01mFalse\u001b[39;00m\n\u001b[1;32m    202\u001b[0m \u001b[38;5;28;01mif\u001b[39;00m \u001b[38;5;28mself\u001b[39m\u001b[38;5;241m.\u001b[39m_exception \u001b[38;5;129;01mis\u001b[39;00m \u001b[38;5;129;01mnot\u001b[39;00m \u001b[38;5;28;01mNone\u001b[39;00m:\n\u001b[0;32m--> 203\u001b[0m     \u001b[38;5;28;01mraise\u001b[39;00m \u001b[38;5;28mself\u001b[39m\u001b[38;5;241m.\u001b[39m_exception\u001b[38;5;241m.\u001b[39mwith_traceback(\u001b[38;5;28mself\u001b[39m\u001b[38;5;241m.\u001b[39m_exception_tb)\n\u001b[1;32m    204\u001b[0m \u001b[38;5;28;01mreturn\u001b[39;00m \u001b[38;5;28mself\u001b[39m\u001b[38;5;241m.\u001b[39m_result\n",
      "File \u001b[0;32m~/.local/share/uv/python/cpython-3.11.10-macos-aarch64-none/lib/python3.11/asyncio/tasks.py:277\u001b[0m, in \u001b[0;36mTask.__step\u001b[0;34m(***failed resolving arguments***)\u001b[0m\n\u001b[1;32m    273\u001b[0m \u001b[38;5;28;01mtry\u001b[39;00m:\n\u001b[1;32m    274\u001b[0m     \u001b[38;5;28;01mif\u001b[39;00m exc \u001b[38;5;129;01mis\u001b[39;00m \u001b[38;5;28;01mNone\u001b[39;00m:\n\u001b[1;32m    275\u001b[0m         \u001b[38;5;66;03m# We use the `send` method directly, because coroutines\u001b[39;00m\n\u001b[1;32m    276\u001b[0m         \u001b[38;5;66;03m# don't have `__iter__` and `__next__` methods.\u001b[39;00m\n\u001b[0;32m--> 277\u001b[0m         result \u001b[38;5;241m=\u001b[39m coro\u001b[38;5;241m.\u001b[39msend(\u001b[38;5;28;01mNone\u001b[39;00m)\n\u001b[1;32m    278\u001b[0m     \u001b[38;5;28;01melse\u001b[39;00m:\n\u001b[1;32m    279\u001b[0m         result \u001b[38;5;241m=\u001b[39m coro\u001b[38;5;241m.\u001b[39mthrow(exc)\n",
      "File \u001b[0;32m~/Documents/notebooks/.venv/lib/python3.11/site-packages/pydantic_ai/agent.py:267\u001b[0m, in \u001b[0;36mAgent.run\u001b[0;34m(self, user_prompt, message_history, model, deps, model_settings, usage_limits, usage, infer_name)\u001b[0m\n\u001b[1;32m    264\u001b[0m usage_limits\u001b[38;5;241m.\u001b[39mcheck_tokens(run_context\u001b[38;5;241m.\u001b[39musage)\n\u001b[1;32m    266\u001b[0m \u001b[38;5;28;01mwith\u001b[39;00m _logfire\u001b[38;5;241m.\u001b[39mspan(\u001b[38;5;124m'\u001b[39m\u001b[38;5;124mhandle model response\u001b[39m\u001b[38;5;124m'\u001b[39m, run_step\u001b[38;5;241m=\u001b[39mrun_context\u001b[38;5;241m.\u001b[39mrun_step) \u001b[38;5;28;01mas\u001b[39;00m handle_span:\n\u001b[0;32m--> 267\u001b[0m     final_result, tool_responses \u001b[38;5;241m=\u001b[39m \u001b[38;5;28;01mawait\u001b[39;00m \u001b[38;5;28mself\u001b[39m\u001b[38;5;241m.\u001b[39m_handle_model_response(model_response, run_context)\n\u001b[1;32m    269\u001b[0m     \u001b[38;5;28;01mif\u001b[39;00m tool_responses:\n\u001b[1;32m    270\u001b[0m         \u001b[38;5;66;03m# Add parts to the conversation as a new message\u001b[39;00m\n\u001b[1;32m    271\u001b[0m         messages\u001b[38;5;241m.\u001b[39mappend(_messages\u001b[38;5;241m.\u001b[39mModelRequest(tool_responses))\n",
      "File \u001b[0;32m~/Documents/notebooks/.venv/lib/python3.11/site-packages/pydantic_ai/agent.py:886\u001b[0m, in \u001b[0;36mAgent._handle_model_response\u001b[0;34m(self, model_response, run_context)\u001b[0m\n\u001b[1;32m    881\u001b[0m \u001b[38;5;66;03m# At the moment, we prioritize at least executing tool calls if they are present.\u001b[39;00m\n\u001b[1;32m    882\u001b[0m \u001b[38;5;66;03m# In the future, we'd consider making this configurable at the agent or run level.\u001b[39;00m\n\u001b[1;32m    883\u001b[0m \u001b[38;5;66;03m# This accounts for cases like anthropic returns that might contain a text response\u001b[39;00m\n\u001b[1;32m    884\u001b[0m \u001b[38;5;66;03m# and a tool call response, where the text response just indicates the tool call will happen.\u001b[39;00m\n\u001b[1;32m    885\u001b[0m \u001b[38;5;28;01mif\u001b[39;00m tool_calls:\n\u001b[0;32m--> 886\u001b[0m     \u001b[38;5;28;01mreturn\u001b[39;00m \u001b[38;5;28;01mawait\u001b[39;00m \u001b[38;5;28mself\u001b[39m\u001b[38;5;241m.\u001b[39m_handle_structured_response(tool_calls, run_context)\n\u001b[1;32m    887\u001b[0m \u001b[38;5;28;01melif\u001b[39;00m texts:\n\u001b[1;32m    888\u001b[0m     text \u001b[38;5;241m=\u001b[39m \u001b[38;5;124m'\u001b[39m\u001b[38;5;130;01m\\n\u001b[39;00m\u001b[38;5;130;01m\\n\u001b[39;00m\u001b[38;5;124m'\u001b[39m\u001b[38;5;241m.\u001b[39mjoin(texts)\n",
      "File \u001b[0;32m~/Documents/notebooks/.venv/lib/python3.11/site-packages/pydantic_ai/agent.py:936\u001b[0m, in \u001b[0;36mAgent._handle_structured_response\u001b[0;34m(self, tool_calls, run_context)\u001b[0m\n\u001b[1;32m    933\u001b[0m             final_result \u001b[38;5;241m=\u001b[39m _MarkFinalResult(result_data, call\u001b[38;5;241m.\u001b[39mtool_name)\n\u001b[1;32m    935\u001b[0m \u001b[38;5;66;03m# Then build the other request parts based on end strategy\u001b[39;00m\n\u001b[0;32m--> 936\u001b[0m parts \u001b[38;5;241m+\u001b[39m\u001b[38;5;241m=\u001b[39m \u001b[38;5;28;01mawait\u001b[39;00m \u001b[38;5;28mself\u001b[39m\u001b[38;5;241m.\u001b[39m_process_function_tools(tool_calls, final_result \u001b[38;5;129;01mand\u001b[39;00m final_result\u001b[38;5;241m.\u001b[39mtool_name, run_context)\n\u001b[1;32m    938\u001b[0m \u001b[38;5;28;01mreturn\u001b[39;00m final_result, parts\n",
      "File \u001b[0;32m~/Documents/notebooks/.venv/lib/python3.11/site-packages/pydantic_ai/agent.py:990\u001b[0m, in \u001b[0;36mAgent._process_function_tools\u001b[0;34m(self, tool_calls, result_tool_name, run_context)\u001b[0m\n\u001b[1;32m    982\u001b[0m             parts\u001b[38;5;241m.\u001b[39mappend(\n\u001b[1;32m    983\u001b[0m                 _messages\u001b[38;5;241m.\u001b[39mToolReturnPart(\n\u001b[1;32m    984\u001b[0m                     tool_name\u001b[38;5;241m=\u001b[39mcall\u001b[38;5;241m.\u001b[39mtool_name,\n\u001b[0;32m   (...)\u001b[0m\n\u001b[1;32m    987\u001b[0m                 )\n\u001b[1;32m    988\u001b[0m             )\n\u001b[1;32m    989\u001b[0m     \u001b[38;5;28;01melse\u001b[39;00m:\n\u001b[0;32m--> 990\u001b[0m         parts\u001b[38;5;241m.\u001b[39mappend(\u001b[38;5;28;43mself\u001b[39;49m\u001b[38;5;241;43m.\u001b[39;49m\u001b[43m_unknown_tool\u001b[49m\u001b[43m(\u001b[49m\u001b[43mcall\u001b[49m\u001b[38;5;241;43m.\u001b[39;49m\u001b[43mtool_name\u001b[49m\u001b[43m,\u001b[49m\u001b[43m \u001b[49m\u001b[43mrun_context\u001b[49m\u001b[43m)\u001b[49m)\n\u001b[1;32m    992\u001b[0m \u001b[38;5;66;03m# Run all tool tasks in parallel\u001b[39;00m\n\u001b[1;32m    993\u001b[0m \u001b[38;5;28;01mif\u001b[39;00m tasks:\n",
      "File \u001b[0;32m~/Documents/notebooks/.venv/lib/python3.11/site-packages/pydantic_ai/agent.py:1095\u001b[0m, in \u001b[0;36mAgent._unknown_tool\u001b[0;34m(self, tool_name, run_context)\u001b[0m\n\u001b[1;32m   1094\u001b[0m \u001b[38;5;28;01mdef\u001b[39;00m \u001b[38;5;21m_unknown_tool\u001b[39m(\u001b[38;5;28mself\u001b[39m, tool_name: \u001b[38;5;28mstr\u001b[39m, run_context: RunContext[AgentDeps]) \u001b[38;5;241m-\u001b[39m\u001b[38;5;241m>\u001b[39m _messages\u001b[38;5;241m.\u001b[39mRetryPromptPart:\n\u001b[0;32m-> 1095\u001b[0m     \u001b[38;5;28;43mself\u001b[39;49m\u001b[38;5;241;43m.\u001b[39;49m\u001b[43m_incr_result_retry\u001b[49m\u001b[43m(\u001b[49m\u001b[43mrun_context\u001b[49m\u001b[43m)\u001b[49m\n\u001b[1;32m   1096\u001b[0m     names \u001b[38;5;241m=\u001b[39m \u001b[38;5;28mlist\u001b[39m(\u001b[38;5;28mself\u001b[39m\u001b[38;5;241m.\u001b[39m_function_tools\u001b[38;5;241m.\u001b[39mkeys())\n\u001b[1;32m   1097\u001b[0m     \u001b[38;5;28;01mif\u001b[39;00m \u001b[38;5;28mself\u001b[39m\u001b[38;5;241m.\u001b[39m_result_schema:\n",
      "File \u001b[0;32m~/Documents/notebooks/.venv/lib/python3.11/site-packages/pydantic_ai/agent.py:1082\u001b[0m, in \u001b[0;36mAgent._incr_result_retry\u001b[0;34m(self, run_context)\u001b[0m\n\u001b[1;32m   1080\u001b[0m run_context\u001b[38;5;241m.\u001b[39mretry \u001b[38;5;241m+\u001b[39m\u001b[38;5;241m=\u001b[39m \u001b[38;5;241m1\u001b[39m\n\u001b[1;32m   1081\u001b[0m \u001b[38;5;28;01mif\u001b[39;00m run_context\u001b[38;5;241m.\u001b[39mretry \u001b[38;5;241m>\u001b[39m \u001b[38;5;28mself\u001b[39m\u001b[38;5;241m.\u001b[39m_max_result_retries:\n\u001b[0;32m-> 1082\u001b[0m     \u001b[38;5;28;01mraise\u001b[39;00m exceptions\u001b[38;5;241m.\u001b[39mUnexpectedModelBehavior(\n\u001b[1;32m   1083\u001b[0m         \u001b[38;5;124mf\u001b[39m\u001b[38;5;124m'\u001b[39m\u001b[38;5;124mExceeded maximum retries (\u001b[39m\u001b[38;5;132;01m{\u001b[39;00m\u001b[38;5;28mself\u001b[39m\u001b[38;5;241m.\u001b[39m_max_result_retries\u001b[38;5;132;01m}\u001b[39;00m\u001b[38;5;124m) for result validation\u001b[39m\u001b[38;5;124m'\u001b[39m\n\u001b[1;32m   1084\u001b[0m     )\n",
      "\u001b[0;31mUnexpectedModelBehavior\u001b[0m: Exceeded maximum retries (1) for result validation"
     ]
    }
   ],
   "source": [
    "result = city_country_agent.run_sync(f'What country and city are these coordinates in:  {coordinates}?')\n",
    "print(result.data)\n",
    "print(result.usage())"
   ]
  },
  {
   "cell_type": "code",
   "execution_count": 12,
   "id": "b6de3e4e-c7c3-4459-9625-5d6241ff5b8e",
   "metadata": {},
   "outputs": [],
   "source": [
    "# Let's update the agent with tools\n",
    "\n",
    "location_agent = Agent('ollama:llama3.2:3b', \n",
    "                       system_prompt=(\n",
    "                           \"\"\"You are a specialized assistant that converts natural language location queries into structured city and country information. Use the provided tools (point_to_latlong, coords_to_address, address_to_location, geocode_with_retry) to process location queries, choosing point_to_latlong for coordinate strings and address_to_location for place names, landmarks, or addresses. Always return results in CityLocation format with required city and country fields, including state and coordinates when available, defaulting to the most prominent location when ambiguous (e.g., 'Paris' should return Paris, France).\"\"\"\n",
    "                       ),\n",
    "                       result_type=CityLocation)"
   ]
  },
  {
   "cell_type": "code",
   "execution_count": 13,
   "id": "c5c12e2b-312e-4a11-91af-9a5909ef806e",
   "metadata": {},
   "outputs": [
    {
     "ename": "UnexpectedModelBehavior",
     "evalue": "Exceeded maximum retries (1) for result validation",
     "output_type": "error",
     "traceback": [
      "\u001b[0;31m---------------------------------------------------------------------------\u001b[0m",
      "\u001b[0;31mUnexpectedModelBehavior\u001b[0m                   Traceback (most recent call last)",
      "Cell \u001b[0;32mIn[13], line 2\u001b[0m\n\u001b[1;32m      1\u001b[0m \u001b[38;5;66;03m# Let's update the agent with tools\u001b[39;00m\n\u001b[0;32m----> 2\u001b[0m result \u001b[38;5;241m=\u001b[39m \u001b[43mlocation_agent\u001b[49m\u001b[38;5;241;43m.\u001b[39;49m\u001b[43mrun_sync\u001b[49m\u001b[43m(\u001b[49m\u001b[38;5;124;43mf\u001b[39;49m\u001b[38;5;124;43m'\u001b[39;49m\u001b[38;5;124;43mWhat country and city is the statue of liberty located in?\u001b[39;49m\u001b[38;5;124;43m'\u001b[39;49m\u001b[43m)\u001b[49m\n\u001b[1;32m      3\u001b[0m \u001b[38;5;28mprint\u001b[39m(result\u001b[38;5;241m.\u001b[39mdata)\n\u001b[1;32m      4\u001b[0m \u001b[38;5;28mprint\u001b[39m(result\u001b[38;5;241m.\u001b[39musage())\n",
      "File \u001b[0;32m~/Documents/notebooks/.venv/lib/python3.11/site-packages/pydantic_ai/agent.py:334\u001b[0m, in \u001b[0;36mAgent.run_sync\u001b[0;34m(self, user_prompt, message_history, model, deps, model_settings, usage_limits, usage, infer_name)\u001b[0m\n\u001b[1;32m    332\u001b[0m \u001b[38;5;28;01mif\u001b[39;00m infer_name \u001b[38;5;129;01mand\u001b[39;00m \u001b[38;5;28mself\u001b[39m\u001b[38;5;241m.\u001b[39mname \u001b[38;5;129;01mis\u001b[39;00m \u001b[38;5;28;01mNone\u001b[39;00m:\n\u001b[1;32m    333\u001b[0m     \u001b[38;5;28mself\u001b[39m\u001b[38;5;241m.\u001b[39m_infer_name(inspect\u001b[38;5;241m.\u001b[39mcurrentframe())\n\u001b[0;32m--> 334\u001b[0m \u001b[38;5;28;01mreturn\u001b[39;00m \u001b[43masyncio\u001b[49m\u001b[38;5;241;43m.\u001b[39;49m\u001b[43mget_event_loop\u001b[49m\u001b[43m(\u001b[49m\u001b[43m)\u001b[49m\u001b[38;5;241;43m.\u001b[39;49m\u001b[43mrun_until_complete\u001b[49m\u001b[43m(\u001b[49m\n\u001b[1;32m    335\u001b[0m \u001b[43m    \u001b[49m\u001b[38;5;28;43mself\u001b[39;49m\u001b[38;5;241;43m.\u001b[39;49m\u001b[43mrun\u001b[49m\u001b[43m(\u001b[49m\n\u001b[1;32m    336\u001b[0m \u001b[43m        \u001b[49m\u001b[43muser_prompt\u001b[49m\u001b[43m,\u001b[49m\n\u001b[1;32m    337\u001b[0m \u001b[43m        \u001b[49m\u001b[43mmessage_history\u001b[49m\u001b[38;5;241;43m=\u001b[39;49m\u001b[43mmessage_history\u001b[49m\u001b[43m,\u001b[49m\n\u001b[1;32m    338\u001b[0m \u001b[43m        \u001b[49m\u001b[43mmodel\u001b[49m\u001b[38;5;241;43m=\u001b[39;49m\u001b[43mmodel\u001b[49m\u001b[43m,\u001b[49m\n\u001b[1;32m    339\u001b[0m \u001b[43m        \u001b[49m\u001b[43mdeps\u001b[49m\u001b[38;5;241;43m=\u001b[39;49m\u001b[43mdeps\u001b[49m\u001b[43m,\u001b[49m\n\u001b[1;32m    340\u001b[0m \u001b[43m        \u001b[49m\u001b[43mmodel_settings\u001b[49m\u001b[38;5;241;43m=\u001b[39;49m\u001b[43mmodel_settings\u001b[49m\u001b[43m,\u001b[49m\n\u001b[1;32m    341\u001b[0m \u001b[43m        \u001b[49m\u001b[43musage_limits\u001b[49m\u001b[38;5;241;43m=\u001b[39;49m\u001b[43musage_limits\u001b[49m\u001b[43m,\u001b[49m\n\u001b[1;32m    342\u001b[0m \u001b[43m        \u001b[49m\u001b[43musage\u001b[49m\u001b[38;5;241;43m=\u001b[39;49m\u001b[43musage\u001b[49m\u001b[43m,\u001b[49m\n\u001b[1;32m    343\u001b[0m \u001b[43m        \u001b[49m\u001b[43minfer_name\u001b[49m\u001b[38;5;241;43m=\u001b[39;49m\u001b[38;5;28;43;01mFalse\u001b[39;49;00m\u001b[43m,\u001b[49m\n\u001b[1;32m    344\u001b[0m \u001b[43m    \u001b[49m\u001b[43m)\u001b[49m\n\u001b[1;32m    345\u001b[0m \u001b[43m\u001b[49m\u001b[43m)\u001b[49m\n",
      "File \u001b[0;32m~/Documents/notebooks/.venv/lib/python3.11/site-packages/nest_asyncio.py:98\u001b[0m, in \u001b[0;36m_patch_loop.<locals>.run_until_complete\u001b[0;34m(self, future)\u001b[0m\n\u001b[1;32m     95\u001b[0m \u001b[38;5;28;01mif\u001b[39;00m \u001b[38;5;129;01mnot\u001b[39;00m f\u001b[38;5;241m.\u001b[39mdone():\n\u001b[1;32m     96\u001b[0m     \u001b[38;5;28;01mraise\u001b[39;00m \u001b[38;5;167;01mRuntimeError\u001b[39;00m(\n\u001b[1;32m     97\u001b[0m         \u001b[38;5;124m'\u001b[39m\u001b[38;5;124mEvent loop stopped before Future completed.\u001b[39m\u001b[38;5;124m'\u001b[39m)\n\u001b[0;32m---> 98\u001b[0m \u001b[38;5;28;01mreturn\u001b[39;00m \u001b[43mf\u001b[49m\u001b[38;5;241;43m.\u001b[39;49m\u001b[43mresult\u001b[49m\u001b[43m(\u001b[49m\u001b[43m)\u001b[49m\n",
      "File \u001b[0;32m~/.local/share/uv/python/cpython-3.11.10-macos-aarch64-none/lib/python3.11/asyncio/futures.py:203\u001b[0m, in \u001b[0;36mFuture.result\u001b[0;34m(self)\u001b[0m\n\u001b[1;32m    201\u001b[0m \u001b[38;5;28mself\u001b[39m\u001b[38;5;241m.\u001b[39m__log_traceback \u001b[38;5;241m=\u001b[39m \u001b[38;5;28;01mFalse\u001b[39;00m\n\u001b[1;32m    202\u001b[0m \u001b[38;5;28;01mif\u001b[39;00m \u001b[38;5;28mself\u001b[39m\u001b[38;5;241m.\u001b[39m_exception \u001b[38;5;129;01mis\u001b[39;00m \u001b[38;5;129;01mnot\u001b[39;00m \u001b[38;5;28;01mNone\u001b[39;00m:\n\u001b[0;32m--> 203\u001b[0m     \u001b[38;5;28;01mraise\u001b[39;00m \u001b[38;5;28mself\u001b[39m\u001b[38;5;241m.\u001b[39m_exception\u001b[38;5;241m.\u001b[39mwith_traceback(\u001b[38;5;28mself\u001b[39m\u001b[38;5;241m.\u001b[39m_exception_tb)\n\u001b[1;32m    204\u001b[0m \u001b[38;5;28;01mreturn\u001b[39;00m \u001b[38;5;28mself\u001b[39m\u001b[38;5;241m.\u001b[39m_result\n",
      "File \u001b[0;32m~/.local/share/uv/python/cpython-3.11.10-macos-aarch64-none/lib/python3.11/asyncio/tasks.py:277\u001b[0m, in \u001b[0;36mTask.__step\u001b[0;34m(***failed resolving arguments***)\u001b[0m\n\u001b[1;32m    273\u001b[0m \u001b[38;5;28;01mtry\u001b[39;00m:\n\u001b[1;32m    274\u001b[0m     \u001b[38;5;28;01mif\u001b[39;00m exc \u001b[38;5;129;01mis\u001b[39;00m \u001b[38;5;28;01mNone\u001b[39;00m:\n\u001b[1;32m    275\u001b[0m         \u001b[38;5;66;03m# We use the `send` method directly, because coroutines\u001b[39;00m\n\u001b[1;32m    276\u001b[0m         \u001b[38;5;66;03m# don't have `__iter__` and `__next__` methods.\u001b[39;00m\n\u001b[0;32m--> 277\u001b[0m         result \u001b[38;5;241m=\u001b[39m coro\u001b[38;5;241m.\u001b[39msend(\u001b[38;5;28;01mNone\u001b[39;00m)\n\u001b[1;32m    278\u001b[0m     \u001b[38;5;28;01melse\u001b[39;00m:\n\u001b[1;32m    279\u001b[0m         result \u001b[38;5;241m=\u001b[39m coro\u001b[38;5;241m.\u001b[39mthrow(exc)\n",
      "File \u001b[0;32m~/Documents/notebooks/.venv/lib/python3.11/site-packages/pydantic_ai/agent.py:267\u001b[0m, in \u001b[0;36mAgent.run\u001b[0;34m(self, user_prompt, message_history, model, deps, model_settings, usage_limits, usage, infer_name)\u001b[0m\n\u001b[1;32m    264\u001b[0m usage_limits\u001b[38;5;241m.\u001b[39mcheck_tokens(run_context\u001b[38;5;241m.\u001b[39musage)\n\u001b[1;32m    266\u001b[0m \u001b[38;5;28;01mwith\u001b[39;00m _logfire\u001b[38;5;241m.\u001b[39mspan(\u001b[38;5;124m'\u001b[39m\u001b[38;5;124mhandle model response\u001b[39m\u001b[38;5;124m'\u001b[39m, run_step\u001b[38;5;241m=\u001b[39mrun_context\u001b[38;5;241m.\u001b[39mrun_step) \u001b[38;5;28;01mas\u001b[39;00m handle_span:\n\u001b[0;32m--> 267\u001b[0m     final_result, tool_responses \u001b[38;5;241m=\u001b[39m \u001b[38;5;28;01mawait\u001b[39;00m \u001b[38;5;28mself\u001b[39m\u001b[38;5;241m.\u001b[39m_handle_model_response(model_response, run_context)\n\u001b[1;32m    269\u001b[0m     \u001b[38;5;28;01mif\u001b[39;00m tool_responses:\n\u001b[1;32m    270\u001b[0m         \u001b[38;5;66;03m# Add parts to the conversation as a new message\u001b[39;00m\n\u001b[1;32m    271\u001b[0m         messages\u001b[38;5;241m.\u001b[39mappend(_messages\u001b[38;5;241m.\u001b[39mModelRequest(tool_responses))\n",
      "File \u001b[0;32m~/Documents/notebooks/.venv/lib/python3.11/site-packages/pydantic_ai/agent.py:886\u001b[0m, in \u001b[0;36mAgent._handle_model_response\u001b[0;34m(self, model_response, run_context)\u001b[0m\n\u001b[1;32m    881\u001b[0m \u001b[38;5;66;03m# At the moment, we prioritize at least executing tool calls if they are present.\u001b[39;00m\n\u001b[1;32m    882\u001b[0m \u001b[38;5;66;03m# In the future, we'd consider making this configurable at the agent or run level.\u001b[39;00m\n\u001b[1;32m    883\u001b[0m \u001b[38;5;66;03m# This accounts for cases like anthropic returns that might contain a text response\u001b[39;00m\n\u001b[1;32m    884\u001b[0m \u001b[38;5;66;03m# and a tool call response, where the text response just indicates the tool call will happen.\u001b[39;00m\n\u001b[1;32m    885\u001b[0m \u001b[38;5;28;01mif\u001b[39;00m tool_calls:\n\u001b[0;32m--> 886\u001b[0m     \u001b[38;5;28;01mreturn\u001b[39;00m \u001b[38;5;28;01mawait\u001b[39;00m \u001b[38;5;28mself\u001b[39m\u001b[38;5;241m.\u001b[39m_handle_structured_response(tool_calls, run_context)\n\u001b[1;32m    887\u001b[0m \u001b[38;5;28;01melif\u001b[39;00m texts:\n\u001b[1;32m    888\u001b[0m     text \u001b[38;5;241m=\u001b[39m \u001b[38;5;124m'\u001b[39m\u001b[38;5;130;01m\\n\u001b[39;00m\u001b[38;5;130;01m\\n\u001b[39;00m\u001b[38;5;124m'\u001b[39m\u001b[38;5;241m.\u001b[39mjoin(texts)\n",
      "File \u001b[0;32m~/Documents/notebooks/.venv/lib/python3.11/site-packages/pydantic_ai/agent.py:936\u001b[0m, in \u001b[0;36mAgent._handle_structured_response\u001b[0;34m(self, tool_calls, run_context)\u001b[0m\n\u001b[1;32m    933\u001b[0m             final_result \u001b[38;5;241m=\u001b[39m _MarkFinalResult(result_data, call\u001b[38;5;241m.\u001b[39mtool_name)\n\u001b[1;32m    935\u001b[0m \u001b[38;5;66;03m# Then build the other request parts based on end strategy\u001b[39;00m\n\u001b[0;32m--> 936\u001b[0m parts \u001b[38;5;241m+\u001b[39m\u001b[38;5;241m=\u001b[39m \u001b[38;5;28;01mawait\u001b[39;00m \u001b[38;5;28mself\u001b[39m\u001b[38;5;241m.\u001b[39m_process_function_tools(tool_calls, final_result \u001b[38;5;129;01mand\u001b[39;00m final_result\u001b[38;5;241m.\u001b[39mtool_name, run_context)\n\u001b[1;32m    938\u001b[0m \u001b[38;5;28;01mreturn\u001b[39;00m final_result, parts\n",
      "File \u001b[0;32m~/Documents/notebooks/.venv/lib/python3.11/site-packages/pydantic_ai/agent.py:990\u001b[0m, in \u001b[0;36mAgent._process_function_tools\u001b[0;34m(self, tool_calls, result_tool_name, run_context)\u001b[0m\n\u001b[1;32m    982\u001b[0m             parts\u001b[38;5;241m.\u001b[39mappend(\n\u001b[1;32m    983\u001b[0m                 _messages\u001b[38;5;241m.\u001b[39mToolReturnPart(\n\u001b[1;32m    984\u001b[0m                     tool_name\u001b[38;5;241m=\u001b[39mcall\u001b[38;5;241m.\u001b[39mtool_name,\n\u001b[0;32m   (...)\u001b[0m\n\u001b[1;32m    987\u001b[0m                 )\n\u001b[1;32m    988\u001b[0m             )\n\u001b[1;32m    989\u001b[0m     \u001b[38;5;28;01melse\u001b[39;00m:\n\u001b[0;32m--> 990\u001b[0m         parts\u001b[38;5;241m.\u001b[39mappend(\u001b[38;5;28;43mself\u001b[39;49m\u001b[38;5;241;43m.\u001b[39;49m\u001b[43m_unknown_tool\u001b[49m\u001b[43m(\u001b[49m\u001b[43mcall\u001b[49m\u001b[38;5;241;43m.\u001b[39;49m\u001b[43mtool_name\u001b[49m\u001b[43m,\u001b[49m\u001b[43m \u001b[49m\u001b[43mrun_context\u001b[49m\u001b[43m)\u001b[49m)\n\u001b[1;32m    992\u001b[0m \u001b[38;5;66;03m# Run all tool tasks in parallel\u001b[39;00m\n\u001b[1;32m    993\u001b[0m \u001b[38;5;28;01mif\u001b[39;00m tasks:\n",
      "File \u001b[0;32m~/Documents/notebooks/.venv/lib/python3.11/site-packages/pydantic_ai/agent.py:1095\u001b[0m, in \u001b[0;36mAgent._unknown_tool\u001b[0;34m(self, tool_name, run_context)\u001b[0m\n\u001b[1;32m   1094\u001b[0m \u001b[38;5;28;01mdef\u001b[39;00m \u001b[38;5;21m_unknown_tool\u001b[39m(\u001b[38;5;28mself\u001b[39m, tool_name: \u001b[38;5;28mstr\u001b[39m, run_context: RunContext[AgentDeps]) \u001b[38;5;241m-\u001b[39m\u001b[38;5;241m>\u001b[39m _messages\u001b[38;5;241m.\u001b[39mRetryPromptPart:\n\u001b[0;32m-> 1095\u001b[0m     \u001b[38;5;28;43mself\u001b[39;49m\u001b[38;5;241;43m.\u001b[39;49m\u001b[43m_incr_result_retry\u001b[49m\u001b[43m(\u001b[49m\u001b[43mrun_context\u001b[49m\u001b[43m)\u001b[49m\n\u001b[1;32m   1096\u001b[0m     names \u001b[38;5;241m=\u001b[39m \u001b[38;5;28mlist\u001b[39m(\u001b[38;5;28mself\u001b[39m\u001b[38;5;241m.\u001b[39m_function_tools\u001b[38;5;241m.\u001b[39mkeys())\n\u001b[1;32m   1097\u001b[0m     \u001b[38;5;28;01mif\u001b[39;00m \u001b[38;5;28mself\u001b[39m\u001b[38;5;241m.\u001b[39m_result_schema:\n",
      "File \u001b[0;32m~/Documents/notebooks/.venv/lib/python3.11/site-packages/pydantic_ai/agent.py:1082\u001b[0m, in \u001b[0;36mAgent._incr_result_retry\u001b[0;34m(self, run_context)\u001b[0m\n\u001b[1;32m   1080\u001b[0m run_context\u001b[38;5;241m.\u001b[39mretry \u001b[38;5;241m+\u001b[39m\u001b[38;5;241m=\u001b[39m \u001b[38;5;241m1\u001b[39m\n\u001b[1;32m   1081\u001b[0m \u001b[38;5;28;01mif\u001b[39;00m run_context\u001b[38;5;241m.\u001b[39mretry \u001b[38;5;241m>\u001b[39m \u001b[38;5;28mself\u001b[39m\u001b[38;5;241m.\u001b[39m_max_result_retries:\n\u001b[0;32m-> 1082\u001b[0m     \u001b[38;5;28;01mraise\u001b[39;00m exceptions\u001b[38;5;241m.\u001b[39mUnexpectedModelBehavior(\n\u001b[1;32m   1083\u001b[0m         \u001b[38;5;124mf\u001b[39m\u001b[38;5;124m'\u001b[39m\u001b[38;5;124mExceeded maximum retries (\u001b[39m\u001b[38;5;132;01m{\u001b[39;00m\u001b[38;5;28mself\u001b[39m\u001b[38;5;241m.\u001b[39m_max_result_retries\u001b[38;5;132;01m}\u001b[39;00m\u001b[38;5;124m) for result validation\u001b[39m\u001b[38;5;124m'\u001b[39m\n\u001b[1;32m   1084\u001b[0m     )\n",
      "\u001b[0;31mUnexpectedModelBehavior\u001b[0m: Exceeded maximum retries (1) for result validation"
     ]
    }
   ],
   "source": [
    "# Let's update the agent with tools\n",
    "result = location_agent.run_sync(f'What country and city is the statue of liberty located in?')\n",
    "print(result.data)\n",
    "print(result.usage())\n"
   ]
  },
  {
   "cell_type": "code",
   "execution_count": null,
   "id": "d231b570-86e1-4961-a3cf-8e01b5eadad0",
   "metadata": {},
   "outputs": [],
   "source": [
    "# https://geopy.readthedocs.io/en/latest/"
   ]
  },
  {
   "cell_type": "code",
   "execution_count": null,
   "id": "e1be9194-1881-4a3e-8fbc-583ffbf34d9c",
   "metadata": {},
   "outputs": [],
   "source": [
    "!uv pip install geopy"
   ]
  },
  {
   "cell_type": "code",
   "execution_count": null,
   "id": "74b970ca-8f40-48a2-921c-9420ffda78bd",
   "metadata": {},
   "outputs": [],
   "source": [
    "from geopy.geocoders import Nominatim\n",
    "from geopy.point import Point\n",
    "from typing import Optional, Tuple\n",
    "\n",
    "from pydantic_ai import Agent, RunContext, Tool\n",
    "\n"
   ]
  },
  {
   "cell_type": "code",
   "execution_count": null,
   "id": "85dcd7ff-1433-46db-8f6f-42d6547c96a7",
   "metadata": {},
   "outputs": [],
   "source": [
    "# https://ai.pydantic.dev/tools/\n",
    "# The tools have to be attached to the correct agent or the agent to use it.\n",
    "\n",
    "@location_agent.tool_plain\n",
    "def coords_to_address(coordinates):\n",
    "    \"\"\"Convert coordinates string or Point object to address\"\"\"\n",
    "    geolocator = Nominatim(user_agent=\"my_app\")\n",
    "    \n",
    "    # If input is a string, convert to Point\n",
    "    if isinstance(coordinates, str):\n",
    "        point = Point(coordinates)\n",
    "    else:\n",
    "        point = coordinates\n",
    "        \n",
    "    location = geolocator.reverse(f\"{point.latitude}, {point.longitude}\")\n",
    "    return location.address\n",
    "\n",
    "@location_agent.tool_plain\n",
    "def address_to_coords(address):\n",
    "    \"\"\"Convert address to coordinates, returns Point object\"\"\"\n",
    "    geolocator = Nominatim(user_agent=\"my_app\")\n",
    "    location = geolocator.geocode(address)\n",
    "    \n",
    "    if location:\n",
    "        return Point(location.latitude, location.longitude)\n",
    "    return None\n",
    "\n"
   ]
  },
  {
   "cell_type": "code",
   "execution_count": null,
   "id": "80e55aa1-8f41-484d-933e-22bfc9b7ef17",
   "metadata": {},
   "outputs": [],
   "source": [
    "@location_agent.tool_plain\n",
    "def latlong_to_address(latitude: float, longitude: float) -> Optional[str]:\n",
    "    \"\"\"\n",
    "    Convert latitude and longitude to address\n",
    "    \n",
    "    Args:\n",
    "        latitude (float): Latitude in decimal degrees\n",
    "        longitude (float): Longitude in decimal degrees\n",
    "    \n",
    "    Returns:\n",
    "        Optional[str]: Address string or None if not found\n",
    "    \"\"\"\n",
    "    geolocator = Nominatim(user_agent=\"my_app\")\n",
    "    try:\n",
    "        location = geolocator.reverse(f\"{latitude}, {longitude}\")\n",
    "        if location:\n",
    "            return str(location.address)\n",
    "        return None\n",
    "    except Exception as e:\n",
    "        print(f\"Error getting address: {e}\")\n",
    "        return None\n"
   ]
  },
  {
   "cell_type": "code",
   "execution_count": null,
   "id": "20874969-19f7-48db-83f0-f2cbb95b2221",
   "metadata": {},
   "outputs": [],
   "source": [
    "@location_agent.tool_plain\n",
    "def point_to_latlong(point_str: str) -> Tuple[float, float]:\n",
    "    \"\"\"\n",
    "    Convert a coordinate string to latitude and longitude\n",
    "    \n",
    "    Args:\n",
    "        point_str (str): Coordinate string (e.g. \"40°27'33\"N 74°29'02\"W\")\n",
    "    \n",
    "    Returns:\n",
    "        Tuple[float, float]: Tuple containing (latitude, longitude)\n",
    "    \"\"\"\n",
    "    point = Point(point_str)\n",
    "    return float(point.latitude), float(point.longitude)"
   ]
  },
  {
   "cell_type": "code",
   "execution_count": null,
   "id": "665a993a-d0cb-4028-9f88-93b1769ca3ad",
   "metadata": {},
   "outputs": [],
   "source": [
    "coords = \"40°27'33\\\"N 74°29'02\\\"W\"\n",
    "point = Point(coords)\n",
    "lat, lon = point_to_latlong(point)\n",
    "print(f\"Latitude: {lat}\")\n",
    "print(f\"Longitude: {lon}\")"
   ]
  },
  {
   "cell_type": "code",
   "execution_count": null,
   "id": "26e1c304-93d4-45f6-96a9-1cb03cf56a31",
   "metadata": {},
   "outputs": [],
   "source": [
    "latlong_to_address(lat,lon) \n"
   ]
  },
  {
   "cell_type": "code",
   "execution_count": null,
   "id": "8e41087a-0b34-4d69-91b3-54279b759336",
   "metadata": {},
   "outputs": [],
   "source": [
    "\n",
    "# Address to coordinates\n",
    "address = \"1510b Jersey Ave, NJ 08902\"\n",
    "point = address_to_coords(address)\n",
    "if point:\n",
    "    print(f\"Coordinates: {point.latitude}°N, {point.longitude}°E\")"
   ]
  },
  {
   "cell_type": "code",
   "execution_count": null,
   "id": "c3eee55f-d398-4028-9951-86f025196c1a",
   "metadata": {},
   "outputs": [],
   "source": [
    "# Example usage:\n",
    "# Coordinates to address\n",
    "coordinates = \"40°27'33\\\"N 74°29'02\\\"W\"\n",
    "\"\"\"\n",
    "40°27'33\"N 74°29'02\"W\n",
    "\"\"\"\n",
    "address = coords_to_address(coordinates)\n",
    "print(f\"Address: {address}\")\n",
    "\n"
   ]
  },
  {
   "cell_type": "code",
   "execution_count": null,
   "id": "8b5e0180-9a0c-42bb-a20c-f1b529fc5fd7",
   "metadata": {},
   "outputs": [],
   "source": [
    "loc_result = location_agent.run_sync('Find the city and state Rutgers University')  \n",
    "print(loc_result.data)"
   ]
  },
  {
   "cell_type": "code",
   "execution_count": null,
   "id": "a03b9161-5780-48ec-ad20-3500b057eb48",
   "metadata": {},
   "outputs": [],
   "source": [
    "pprint(loc_result.all_messages(), indent=2, width=80)\n"
   ]
  }
 ],
 "metadata": {
  "kernelspec": {
   "display_name": "Python 3 (ipykernel)",
   "language": "python",
   "name": "python3"
  },
  "language_info": {
   "codemirror_mode": {
    "name": "ipython",
    "version": 3
   },
   "file_extension": ".py",
   "mimetype": "text/x-python",
   "name": "python",
   "nbconvert_exporter": "python",
   "pygments_lexer": "ipython3",
   "version": "3.11.10"
  }
 },
 "nbformat": 4,
 "nbformat_minor": 5
}
