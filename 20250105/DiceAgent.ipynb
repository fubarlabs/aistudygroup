{
 "cells": [
  {
   "cell_type": "code",
   "execution_count": null,
   "id": "89e8dbdd-99c9-4e4e-9149-cf3d00bab4aa",
   "metadata": {},
   "outputs": [],
   "source": []
  },
  {
   "cell_type": "code",
   "execution_count": null,
   "id": "47b55fb2-1c3f-4f30-ba65-b064b89dc26c",
   "metadata": {},
   "outputs": [],
   "source": [
    "# "
   ]
  },
  {
   "cell_type": "code",
   "execution_count": 2,
   "id": "deab5beb-57d6-428b-8095-1bac065c0d92",
   "metadata": {},
   "outputs": [
    {
     "name": "stdout",
     "output_type": "stream",
     "text": [
      "\u001b[2mUsing Python 3.11.10 environment at /Users/rianders/Documents/notebooks/.venv\u001b[0m\n",
      "\u001b[2mAudited \u001b[1m1 package\u001b[0m \u001b[2min 4ms\u001b[0m\u001b[0m\n",
      "\u001b[2mUsing Python 3.11.10 environment at /Users/rianders/Documents/notebooks/.venv\u001b[0m\n",
      "\u001b[2mAudited \u001b[1m1 package\u001b[0m \u001b[2min 3ms\u001b[0m\u001b[0m\n"
     ]
    }
   ],
   "source": [
    "!uv pip install pydantic-ai\n",
    "!uv pip install pydantic-ai-slim \n",
    "\n"
   ]
  },
  {
   "cell_type": "code",
   "execution_count": 15,
   "id": "ae40043a-6859-4e66-abce-2af00092e2be",
   "metadata": {},
   "outputs": [],
   "source": [
    "# notebooks % ollama run llama3.2-vision:latest\n",
    "import os\n",
    "import random\n",
    "from pydantic_ai import Agent, RunContext\n",
    "import nest_asyncio\n",
    "import asyncio\n",
    "from pprint import pprint\n"
   ]
  },
  {
   "cell_type": "code",
   "execution_count": 4,
   "id": "fd841883-feb5-4c04-8e2b-6e453509e1f0",
   "metadata": {},
   "outputs": [],
   "source": [
    "nest_asyncio.apply()\n"
   ]
  },
  {
   "cell_type": "code",
   "execution_count": null,
   "id": "7615e0e0-aed4-404e-a5e2-3c28b6112e1a",
   "metadata": {},
   "outputs": [],
   "source": []
  },
  {
   "cell_type": "code",
   "execution_count": null,
   "id": "fe2be1d9-d9e3-405f-8b0e-1bd7fa93bef1",
   "metadata": {},
   "outputs": [],
   "source": []
  },
  {
   "cell_type": "code",
   "execution_count": null,
   "id": "a9e5c142-b872-410f-8424-ac5c374173a6",
   "metadata": {},
   "outputs": [],
   "source": [
    "\n"
   ]
  },
  {
   "cell_type": "code",
   "execution_count": 6,
   "id": "58063a79-1ccd-4deb-a497-7e20772a3592",
   "metadata": {},
   "outputs": [
    {
     "name": "stdout",
     "output_type": "stream",
     "text": [
      "{\"name\":\"roll_die\",\"parameters{T:4}}\n"
     ]
    }
   ],
   "source": [
    "\n",
    "dice_agent = Agent(\n",
    "    'ollama:llama3.2:3b',  \n",
    "    deps_type=str,  \n",
    "    system_prompt=(\n",
    "        \"You're a dice game, you should roll the die and see if the number \"\n",
    "        \"you get back matches the user's guess. If so, tell them they're a winner. \"\n",
    "        \"Use the player's name in the response.\"\n",
    "    ),\n",
    ")\n",
    "\n",
    "\n",
    "@dice_agent.tool_plain  \n",
    "def roll_die() -> str:\n",
    "    \"\"\"Roll a six-sided die and return the result.\"\"\"\n",
    "    return str(random.randint(1, 6))\n",
    "\n",
    "\n",
    "@dice_agent.tool  \n",
    "def get_player_name(ctx: RunContext[str]) -> str:\n",
    "    \"\"\"Get the player's name.\"\"\"\n",
    "    return ctx.deps\n",
    "\n",
    "\n",
    "dice_result = dice_agent.run_sync('My guess is 4', deps='Anne')  \n",
    "print(dice_result.data)\n",
    "#> Congratulations Anne, you guessed correctly! You're a winner!"
   ]
  },
  {
   "cell_type": "code",
   "execution_count": null,
   "id": "d90ca12c-c9dc-4c8e-a0b3-80810db881d1",
   "metadata": {},
   "outputs": [],
   "source": []
  },
  {
   "cell_type": "code",
   "execution_count": 8,
   "id": "283911e5-5310-41e9-a8a4-48731db76c85",
   "metadata": {},
   "outputs": [
    {
     "name": "stdout",
     "output_type": "stream",
     "text": [
      "[ModelRequest(parts=[SystemPromptPart(content=\"You're a dice game, you should roll the die and see if the number you get back matches the user's guess. If so, tell them they're a winner. Use the player's name in the response.\", part_kind='system-prompt'), UserPromptPart(content='My guess is 4', timestamp=datetime.datetime(2025, 1, 5, 3, 38, 42, 139362, tzinfo=datetime.timezone.utc), part_kind='user-prompt')], kind='request'), ModelResponse(parts=[TextPart(content='{\"name\":\"roll_die\",\"parameters{T:4}}', part_kind='text')], timestamp=datetime.datetime(2025, 1, 5, 3, 38, 43, tzinfo=datetime.timezone.utc), kind='response')]\n"
     ]
    }
   ],
   "source": [
    "# print messsages\n",
    "\n",
    "print(dice_result.all_messages())"
   ]
  },
  {
   "cell_type": "code",
   "execution_count": 16,
   "id": "f54893a4-97b3-430b-ab8f-810b1e67ce4c",
   "metadata": {},
   "outputs": [
    {
     "name": "stdout",
     "output_type": "stream",
     "text": [
      "[ ModelRequest(parts=[ SystemPromptPart(content=\"You're a dice game, you \"\n",
      "                                                'should roll the die and see '\n",
      "                                                'if the number you get back '\n",
      "                                                \"matches the user's guess. If \"\n",
      "                                                \"so, tell them they're a \"\n",
      "                                                \"winner. Use the player's name \"\n",
      "                                                'in the response.',\n",
      "                                        part_kind='system-prompt'),\n",
      "                       UserPromptPart(content='My guess is 4',\n",
      "                                      timestamp=datetime.datetime(2025, 1, 5, 3, 38, 42, 139362, tzinfo=datetime.timezone.utc),\n",
      "                                      part_kind='user-prompt')],\n",
      "               kind='request'),\n",
      "  ModelResponse(parts=[ TextPart(content='{\"name\":\"roll_die\",\"parameters{T:4}}',\n",
      "                                 part_kind='text')],\n",
      "                timestamp=datetime.datetime(2025, 1, 5, 3, 38, 43, tzinfo=datetime.timezone.utc),\n",
      "                kind='response')]\n"
     ]
    }
   ],
   "source": [
    "pprint(dice_result.all_messages(), indent=2, width=80)\n",
    "\n"
   ]
  }
 ],
 "metadata": {
  "kernelspec": {
   "display_name": "Python 3 (ipykernel)",
   "language": "python",
   "name": "python3"
  },
  "language_info": {
   "codemirror_mode": {
    "name": "ipython",
    "version": 3
   },
   "file_extension": ".py",
   "mimetype": "text/x-python",
   "name": "python",
   "nbconvert_exporter": "python",
   "pygments_lexer": "ipython3",
   "version": "3.11.10"
  }
 },
 "nbformat": 4,
 "nbformat_minor": 5
}
