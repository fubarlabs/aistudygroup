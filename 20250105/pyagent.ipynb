{
 "cells": [
  {
   "cell_type": "code",
   "execution_count": 1,
   "id": "83dba3a4-abac-458b-993b-baeca018e5b0",
   "metadata": {},
   "outputs": [
    {
     "name": "stdout",
     "output_type": "stream",
     "text": [
      "\u001b[2mUsing Python 3.11.10 environment at /Users/rianders/Documents/notebooks/.venv\u001b[0m\n",
      "\u001b[2mAudited \u001b[1m1 package\u001b[0m \u001b[2min 20ms\u001b[0m\u001b[0m\n"
     ]
    }
   ],
   "source": [
    "!uv pip install pydantic-ai"
   ]
  },
  {
   "cell_type": "code",
   "execution_count": 2,
   "id": "590eca7e-1864-4fba-b27a-367607a84fd4",
   "metadata": {},
   "outputs": [
    {
     "name": "stdout",
     "output_type": "stream",
     "text": [
      "\u001b[2mUsing Python 3.11.10 environment at /Users/rianders/Documents/notebooks/.venv\u001b[0m\n",
      "\u001b[2mAudited \u001b[1m1 package\u001b[0m \u001b[2min 2ms\u001b[0m\u001b[0m\n"
     ]
    }
   ],
   "source": [
    "!uv pip install python-dotenv\n"
   ]
  },
  {
   "cell_type": "code",
   "execution_count": 3,
   "id": "64237064-86a0-4dd8-b771-930f40c8ff33",
   "metadata": {},
   "outputs": [],
   "source": [
    "import os\n",
    "from dotenv import load_dotenv\n",
    "\n",
    "from pydantic_ai import Agent\n",
    "import nest_asyncio\n",
    "\n",
    "from pydantic import BaseModel\n",
    "\n"
   ]
  },
  {
   "cell_type": "code",
   "execution_count": 4,
   "id": "59ae7312-8a94-45b6-9eb9-af5481c66608",
   "metadata": {},
   "outputs": [],
   "source": [
    "# Load the environment variables from the .env file\n",
    "load_dotenv()\n",
    "\n",
    "# dotenv_path = join(dirname(__file__), '.env')\n",
    "# load_dotenv(dotenv_path)\n",
    "\n",
    "os.environ[\"ANTHROPIC_API_KEY\"] = os.environ.get(\"ANTHROPIC_KEY\")\n",
    "nest_asyncio.apply()\n"
   ]
  },
  {
   "cell_type": "code",
   "execution_count": 5,
   "id": "0c4b6553-c9c4-4bb7-885c-bbcc6a1a94eb",
   "metadata": {},
   "outputs": [
    {
     "name": "stdout",
     "output_type": "stream",
     "text": [
      "\"Hello, World\" originated as a simple first program in Brian Kernighan's 1978 tutorial for the C programming language.\n"
     ]
    },
    {
     "data": {
      "text/plain": [
       "'\\nThe first known use of \"hello, world\" was in a 1974 textbook about the C programming language.\\n'"
      ]
     },
     "execution_count": 5,
     "metadata": {},
     "output_type": "execute_result"
    }
   ],
   "source": [
    "\n",
    "agent = Agent(\n",
    "    \"claude-3-5-sonnet-latest\",\n",
    "    system_prompt=\"Be concise, reply with one sentence.\",\n",
    ")\n",
    "\n",
    "result = agent.run_sync(\"Where does \\\"hello world\\\" come from?\")\n",
    "print(result.data)\n",
    "\"\"\"\n",
    "The first known use of \"hello, world\" was in a 1974 textbook about the C programming language.\n",
    "\"\"\""
   ]
  },
  {
   "cell_type": "code",
   "execution_count": null,
   "id": "40aec9da-a3aa-4c93-9357-93bacbba4ea9",
   "metadata": {},
   "outputs": [],
   "source": []
  },
  {
   "cell_type": "code",
   "execution_count": 6,
   "id": "7a8cf36e-6e72-42af-b2a0-ab38004ad3fe",
   "metadata": {},
   "outputs": [],
   "source": [
    "class CityLocation(BaseModel):\n",
    "    city: str\n",
    "    country: str\n"
   ]
  },
  {
   "cell_type": "code",
   "execution_count": 7,
   "id": "281341e7-2bc4-41eb-bfe3-bdbbc8cfc817",
   "metadata": {},
   "outputs": [],
   "source": [
    "\n",
    "city_country_agent = Agent(\n",
    "                        \"claude-3-5-sonnet-latest\",\n",
    "                       result_type=CityLocation)\n",
    "\n"
   ]
  },
  {
   "cell_type": "code",
   "execution_count": 8,
   "id": "8c3ccc6a-e5f8-41e1-a8ef-edbf0f68c681",
   "metadata": {},
   "outputs": [
    {
     "name": "stdout",
     "output_type": "stream",
     "text": [
      "city='New York City' country='United States'\n",
      "Usage(requests=1, request_tokens=420, response_tokens=58, total_tokens=478, details=None)\n"
     ]
    }
   ],
   "source": [
    "#result = city_country_agent.run_sync(f'What country and city are these coordinates in:  {coordinates}?')\n",
    "result = city_country_agent.run_sync(f'What country and city is the statue of liberty in?')\n",
    "print(result.data)\n",
    "print(result.usage())"
   ]
  },
  {
   "cell_type": "code",
   "execution_count": 9,
   "id": "77ea7678-50eb-450e-996f-24015d566432",
   "metadata": {},
   "outputs": [
    {
     "name": "stdout",
     "output_type": "stream",
     "text": [
      "city='Franklin Township' country='United States'\n",
      "Usage(requests=1, request_tokens=435, response_tokens=57, total_tokens=492, details=None)\n"
     ]
    }
   ],
   "source": [
    "coordinates = \"40°27'33\\\"N 74°29'02\\\"W\"\n",
    "\n",
    "result = city_country_agent.run_sync(f'What country and city are these coordinates in:  {coordinates}?')\n",
    "print(result.data)\n",
    "print(result.usage())"
   ]
  },
  {
   "cell_type": "code",
   "execution_count": 10,
   "id": "7915ae3e-9df2-4c8f-9c4b-257e3bdeaac1",
   "metadata": {},
   "outputs": [
    {
     "name": "stdout",
     "output_type": "stream",
     "text": [
      "Rutgers Gardens, a botanical garden operated by Rutgers University in New Brunswick, New Jersey.\n",
      "Usage(requests=1, request_tokens=36, response_tokens=24, total_tokens=60, details=None)\n",
      "The coordinates 40°27'33\"N 74°29'02\"W convert to 40.459167°N, 74.483889°W in decimal degrees.\n",
      "Usage(requests=1, request_tokens=40, response_tokens=42, total_tokens=82, details=None)\n"
     ]
    }
   ],
   "source": [
    "result = agent.run_sync(f\"What is located at {coordinates}\")\n",
    "print(result.data)\n",
    "print(result.usage())\n",
    "\n",
    "result = agent.run_sync(f\"What is the lat and long for: {coordinates}\")\n",
    "print(result.data)\n",
    "print(result.usage())"
   ]
  },
  {
   "cell_type": "code",
   "execution_count": 11,
   "id": "953616f6-b25a-440c-be17-4a55ba48cc59",
   "metadata": {},
   "outputs": [],
   "source": [
    "class LatLon(BaseModel):\n",
    "    Lat: str\n",
    "    Lon: str"
   ]
  },
  {
   "cell_type": "code",
   "execution_count": 12,
   "id": "3f42cc52-dcda-4279-a058-9289041aa9d0",
   "metadata": {},
   "outputs": [],
   "source": [
    "\n",
    "lat_lon_agent = Agent(\n",
    "                \"claude-3-5-sonnet-latest\",\n",
    "                result_type=LatLon\n",
    "                )"
   ]
  },
  {
   "cell_type": "code",
   "execution_count": 13,
   "id": "8ec265a2-3d7f-4371-9c90-0171f5905b1e",
   "metadata": {},
   "outputs": [
    {
     "name": "stdout",
     "output_type": "stream",
     "text": [
      "Lat='40.459167' Lon='-74.483889'\n",
      "Usage(requests=1, request_tokens=439, response_tokens=64, total_tokens=503, details=None)\n"
     ]
    }
   ],
   "source": [
    "result = lat_lon_agent.run_sync(f\"What is the lat and lon for {coordinates}\")\n",
    "print(result.data)\n",
    "print(result.usage())"
   ]
  },
  {
   "cell_type": "code",
   "execution_count": 14,
   "id": "8e927e06-7b97-4c78-800e-e39fb191b9a8",
   "metadata": {},
   "outputs": [
    {
     "name": "stdout",
     "output_type": "stream",
     "text": [
      "Rutgers University's main campus (New Brunswick) is located at those coordinates in New Jersey.\n",
      "Usage(requests=1, request_tokens=30, response_tokens=23, total_tokens=53, details=None)\n"
     ]
    }
   ],
   "source": [
    "result = agent.run_sync(f\"What is at {result.data.Lat}, {result.data.Lon}\")\n",
    "print(result.data)\n",
    "print(result.usage())"
   ]
  },
  {
   "cell_type": "code",
   "execution_count": 15,
   "id": "2c2bc048-c4f5-494b-9ce4-4d77b8e7432b",
   "metadata": {},
   "outputs": [
    {
     "name": "stdout",
     "output_type": "stream",
     "text": [
      "city='New Brunswick' country='United States'\n",
      "Usage(requests=1, request_tokens=418, response_tokens=57, total_tokens=475, details=None)\n"
     ]
    }
   ],
   "source": [
    "result = city_country_agent.run_sync('Find the city and state Rutgers University')  \n",
    "print(result.data)\n",
    "print(result.usage())"
   ]
  }
 ],
 "metadata": {
  "kernelspec": {
   "display_name": "Python 3 (ipykernel)",
   "language": "python",
   "name": "python3"
  },
  "language_info": {
   "codemirror_mode": {
    "name": "ipython",
    "version": 3
   },
   "file_extension": ".py",
   "mimetype": "text/x-python",
   "name": "python",
   "nbconvert_exporter": "python",
   "pygments_lexer": "ipython3",
   "version": "3.11.10"
  }
 },
 "nbformat": 4,
 "nbformat_minor": 5
}
