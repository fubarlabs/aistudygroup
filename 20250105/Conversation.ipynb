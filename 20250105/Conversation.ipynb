{
 "cells": [
  {
   "cell_type": "code",
   "execution_count": 3,
   "id": "decbf9a6-47ec-4638-871f-c30df48b5cf7",
   "metadata": {},
   "outputs": [
    {
     "name": "stdout",
     "output_type": "stream",
     "text": [
      "\u001b[2mUsing Python 3.11.10 environment at /Users/rianders/Documents/notebooks/.venv\u001b[0m\n",
      "\u001b[2mAudited \u001b[1m3 packages\u001b[0m \u001b[2min 4ms\u001b[0m\u001b[0m\n"
     ]
    }
   ],
   "source": [
    "!uv pip install pydantic-ai python-dotenv nest_asyncio"
   ]
  },
  {
   "cell_type": "code",
   "execution_count": 4,
   "id": "d123e78b-e4c1-4e03-9f4c-3910668eb914",
   "metadata": {},
   "outputs": [],
   "source": [
    "import os\n",
    "from dotenv import load_dotenv\n",
    "from pprint import pprint\n",
    "import nest_asyncio\n",
    "\n",
    "from pydantic_ai import Agent\n",
    "from pydantic import BaseModel\n",
    "\n"
   ]
  },
  {
   "cell_type": "code",
   "execution_count": 5,
   "id": "753cd1a5-e388-452e-a0a0-bc8a4d570dcb",
   "metadata": {},
   "outputs": [],
   "source": [
    "# Load the environment variables from the .env file\n",
    "load_dotenv()\n",
    "\n",
    "os.environ[\"ANTHROPIC_API_KEY\"] = os.environ.get(\"ANTHROPIC_KEY\")\n",
    "nest_asyncio.apply()"
   ]
  },
  {
   "cell_type": "code",
   "execution_count": 9,
   "id": "31d61cac-d4d4-4d33-b63e-9260d19e5ea0",
   "metadata": {},
   "outputs": [],
   "source": [
    "# Shwow system prompt impact\n",
    "# Option show storing info into class like: person, equation\n",
    "agent = Agent( \"claude-3-5-sonnet-latest\")\n"
   ]
  },
  {
   "cell_type": "code",
   "execution_count": 10,
   "id": "7a91511c-f5fe-4538-bf4c-1ce0e7f38b00",
   "metadata": {},
   "outputs": [
    {
     "name": "stdout",
     "output_type": "stream",
     "text": [
      "Albert Einstein (1879-1955) was one of the most influential and renowned physicists of the 20th century. He is best known for developing the theory of relativity, one of the two pillars of modern physics (the other being quantum mechanics). His famous equation E = mc² revolutionized our understanding of energy, mass, space, and time.\n",
      "\n",
      "Key achievements and contributions include:\n",
      "\n",
      "1. Special Theory of Relativity (1905)\n",
      "2. General Theory of Relativity (1915)\n",
      "3. Photoelectric effect explanation (which won him the 1921 Nobel Prize in Physics)\n",
      "4. Significant contributions to quantum mechanics\n",
      "5. Various other theoretical physics discoveries\n",
      "\n",
      "Beyond his scientific work, Einstein was also known as:\n",
      "- A humanitarian and peace advocate\n",
      "- A supporter of civil rights\n",
      "- A cultural icon symbolizing genius and creativity\n",
      "- A Jewish refugee who fled Nazi Germany to the United States in 1933\n",
      "\n",
      "His work fundamentally changed our understanding of the universe and continues to influence modern physics and technology. Einstein is often regarded as the most influential physicist of all time and is frequently identified as the world's most famous scientist.\n"
     ]
    }
   ],
   "source": [
    "\n",
    "\n",
    "# First run\n",
    "result1 = agent.run_sync('Who was Albert Einstein?')\n",
    "print(result1.data)\n",
    "#> Albert Einstein was a German-born theoretical physicist.\n",
    "\n"
   ]
  },
  {
   "cell_type": "code",
   "execution_count": 11,
   "id": "62089860-2c33-431b-a43a-7b89af017b5c",
   "metadata": {},
   "outputs": [
    {
     "name": "stdout",
     "output_type": "stream",
     "text": [
      "[ ModelRequest(parts=[ UserPromptPart(content='Who was Albert Einstein?',\n",
      "                                      timestamp=datetime.datetime(2025, 1, 5, 13, 35, 10, 604991, tzinfo=datetime.timezone.utc),\n",
      "                                      part_kind='user-prompt')],\n",
      "               kind='request'),\n",
      "  ModelResponse(parts=[ TextPart(content='Albert Einstein (1879-1955) was one '\n",
      "                                         'of the most influential and renowned '\n",
      "                                         'physicists of the 20th century. He '\n",
      "                                         'is best known for developing the '\n",
      "                                         'theory of relativity, one of the two '\n",
      "                                         'pillars of modern physics (the other '\n",
      "                                         'being quantum mechanics). His famous '\n",
      "                                         'equation E = mc² revolutionized our '\n",
      "                                         'understanding of energy, mass, '\n",
      "                                         'space, and time.\\n'\n",
      "                                         '\\n'\n",
      "                                         'Key achievements and contributions '\n",
      "                                         'include:\\n'\n",
      "                                         '\\n'\n",
      "                                         '1. Special Theory of Relativity '\n",
      "                                         '(1905)\\n'\n",
      "                                         '2. General Theory of Relativity '\n",
      "                                         '(1915)\\n'\n",
      "                                         '3. Photoelectric effect explanation '\n",
      "                                         '(which won him the 1921 Nobel Prize '\n",
      "                                         'in Physics)\\n'\n",
      "                                         '4. Significant contributions to '\n",
      "                                         'quantum mechanics\\n'\n",
      "                                         '5. Various other theoretical physics '\n",
      "                                         'discoveries\\n'\n",
      "                                         '\\n'\n",
      "                                         'Beyond his scientific work, Einstein '\n",
      "                                         'was also known as:\\n'\n",
      "                                         '- A humanitarian and peace advocate\\n'\n",
      "                                         '- A supporter of civil rights\\n'\n",
      "                                         '- A cultural icon symbolizing genius '\n",
      "                                         'and creativity\\n'\n",
      "                                         '- A Jewish refugee who fled Nazi '\n",
      "                                         'Germany to the United States in '\n",
      "                                         '1933\\n'\n",
      "                                         '\\n'\n",
      "                                         'His work fundamentally changed our '\n",
      "                                         'understanding of the universe and '\n",
      "                                         'continues to influence modern '\n",
      "                                         'physics and technology. Einstein is '\n",
      "                                         'often regarded as the most '\n",
      "                                         'influential physicist of all time '\n",
      "                                         'and is frequently identified as the '\n",
      "                                         \"world's most famous scientist.\",\n",
      "                                 part_kind='text')],\n",
      "                timestamp=datetime.datetime(2025, 1, 5, 13, 35, 15, 36031, tzinfo=datetime.timezone.utc),\n",
      "                kind='response')]\n"
     ]
    }
   ],
   "source": [
    "pprint(result1.all_messages(), indent=2, width=80)\n"
   ]
  },
  {
   "cell_type": "code",
   "execution_count": 12,
   "id": "65bf90e2-9359-417d-a2ed-23e7b2a282e9",
   "metadata": {},
   "outputs": [
    {
     "name": "stdout",
     "output_type": "stream",
     "text": [
      "Einstein's most famous equation is E = mc²\n",
      "\n",
      "This equation represents the relationship between energy (E) and mass (m), where 'c' is the speed of light in a vacuum (approximately 300,000,000 meters per second). The equation shows that energy and mass are interchangeable - they are different forms of the same thing. The 'c²' term means that even a tiny amount of mass can be converted into an enormous amount of energy, since the speed of light squared is a very large number.\n",
      "\n",
      "This equation is fundamental to our understanding of:\n",
      "- Nuclear power and nuclear weapons\n",
      "- The energy produced by stars like our Sun\n",
      "- Mass-energy conservation in particle physics\n",
      "- The relationship between matter and energy in the universe\n",
      "\n",
      "The equation was published as part of Einstein's Special Theory of Relativity in 1905 and remains one of the most well-known scientific formulas in history. It revolutionized physics and our understanding of how the universe works.\n"
     ]
    }
   ],
   "source": [
    "# Second run, passing previous messages\n",
    "result2 = agent.run_sync(\n",
    "    'What was his most famous equation?',\n",
    "    message_history=result1.new_messages(),  \n",
    ")\n",
    "print(result2.data)\n",
    "#> Albert Einstein's most famous equation is (E = mc^2)."
   ]
  },
  {
   "cell_type": "code",
   "execution_count": 13,
   "id": "39d11398-a696-418d-b16d-53f3d243ca1e",
   "metadata": {},
   "outputs": [
    {
     "name": "stdout",
     "output_type": "stream",
     "text": [
      "[ ModelRequest(parts=[ UserPromptPart(content='Who was Albert Einstein?',\n",
      "                                      timestamp=datetime.datetime(2025, 1, 5, 13, 35, 10, 604991, tzinfo=datetime.timezone.utc),\n",
      "                                      part_kind='user-prompt')],\n",
      "               kind='request'),\n",
      "  ModelResponse(parts=[ TextPart(content='Albert Einstein (1879-1955) was one '\n",
      "                                         'of the most influential and renowned '\n",
      "                                         'physicists of the 20th century. He '\n",
      "                                         'is best known for developing the '\n",
      "                                         'theory of relativity, one of the two '\n",
      "                                         'pillars of modern physics (the other '\n",
      "                                         'being quantum mechanics). His famous '\n",
      "                                         'equation E = mc² revolutionized our '\n",
      "                                         'understanding of energy, mass, '\n",
      "                                         'space, and time.\\n'\n",
      "                                         '\\n'\n",
      "                                         'Key achievements and contributions '\n",
      "                                         'include:\\n'\n",
      "                                         '\\n'\n",
      "                                         '1. Special Theory of Relativity '\n",
      "                                         '(1905)\\n'\n",
      "                                         '2. General Theory of Relativity '\n",
      "                                         '(1915)\\n'\n",
      "                                         '3. Photoelectric effect explanation '\n",
      "                                         '(which won him the 1921 Nobel Prize '\n",
      "                                         'in Physics)\\n'\n",
      "                                         '4. Significant contributions to '\n",
      "                                         'quantum mechanics\\n'\n",
      "                                         '5. Various other theoretical physics '\n",
      "                                         'discoveries\\n'\n",
      "                                         '\\n'\n",
      "                                         'Beyond his scientific work, Einstein '\n",
      "                                         'was also known as:\\n'\n",
      "                                         '- A humanitarian and peace advocate\\n'\n",
      "                                         '- A supporter of civil rights\\n'\n",
      "                                         '- A cultural icon symbolizing genius '\n",
      "                                         'and creativity\\n'\n",
      "                                         '- A Jewish refugee who fled Nazi '\n",
      "                                         'Germany to the United States in '\n",
      "                                         '1933\\n'\n",
      "                                         '\\n'\n",
      "                                         'His work fundamentally changed our '\n",
      "                                         'understanding of the universe and '\n",
      "                                         'continues to influence modern '\n",
      "                                         'physics and technology. Einstein is '\n",
      "                                         'often regarded as the most '\n",
      "                                         'influential physicist of all time '\n",
      "                                         'and is frequently identified as the '\n",
      "                                         \"world's most famous scientist.\",\n",
      "                                 part_kind='text')],\n",
      "                timestamp=datetime.datetime(2025, 1, 5, 13, 35, 15, 36031, tzinfo=datetime.timezone.utc),\n",
      "                kind='response'),\n",
      "  ModelRequest(parts=[ UserPromptPart(content='What was his most famous '\n",
      "                                              'equation?',\n",
      "                                      timestamp=datetime.datetime(2025, 1, 5, 13, 35, 15, 57647, tzinfo=datetime.timezone.utc),\n",
      "                                      part_kind='user-prompt')],\n",
      "               kind='request'),\n",
      "  ModelResponse(parts=[ TextPart(content=\"Einstein's most famous equation is E \"\n",
      "                                         '= mc²\\n'\n",
      "                                         '\\n'\n",
      "                                         'This equation represents the '\n",
      "                                         'relationship between energy (E) and '\n",
      "                                         \"mass (m), where 'c' is the speed of \"\n",
      "                                         'light in a vacuum (approximately '\n",
      "                                         '300,000,000 meters per second). The '\n",
      "                                         'equation shows that energy and mass '\n",
      "                                         'are interchangeable - they are '\n",
      "                                         'different forms of the same thing. '\n",
      "                                         \"The 'c²' term means that even a tiny \"\n",
      "                                         'amount of mass can be converted into '\n",
      "                                         'an enormous amount of energy, since '\n",
      "                                         'the speed of light squared is a very '\n",
      "                                         'large number.\\n'\n",
      "                                         '\\n'\n",
      "                                         'This equation is fundamental to our '\n",
      "                                         'understanding of:\\n'\n",
      "                                         '- Nuclear power and nuclear weapons\\n'\n",
      "                                         '- The energy produced by stars like '\n",
      "                                         'our Sun\\n'\n",
      "                                         '- Mass-energy conservation in '\n",
      "                                         'particle physics\\n'\n",
      "                                         '- The relationship between matter '\n",
      "                                         'and energy in the universe\\n'\n",
      "                                         '\\n'\n",
      "                                         'The equation was published as part '\n",
      "                                         \"of Einstein's Special Theory of \"\n",
      "                                         'Relativity in 1905 and remains one '\n",
      "                                         'of the most well-known scientific '\n",
      "                                         'formulas in history. It '\n",
      "                                         'revolutionized physics and our '\n",
      "                                         'understanding of how the universe '\n",
      "                                         'works.',\n",
      "                                 part_kind='text')],\n",
      "                timestamp=datetime.datetime(2025, 1, 5, 13, 35, 20, 371078, tzinfo=datetime.timezone.utc),\n",
      "                kind='response')]\n"
     ]
    }
   ],
   "source": [
    "pprint(result2.all_messages(), indent=2, width=80)\n"
   ]
  }
 ],
 "metadata": {
  "kernelspec": {
   "display_name": "Python 3 (ipykernel)",
   "language": "python",
   "name": "python3"
  },
  "language_info": {
   "codemirror_mode": {
    "name": "ipython",
    "version": 3
   },
   "file_extension": ".py",
   "mimetype": "text/x-python",
   "name": "python",
   "nbconvert_exporter": "python",
   "pygments_lexer": "ipython3",
   "version": "3.11.10"
  }
 },
 "nbformat": 4,
 "nbformat_minor": 5
}
