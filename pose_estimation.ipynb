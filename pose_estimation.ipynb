{
  "nbformat": 4,
  "nbformat_minor": 0,
  "metadata": {
    "colab": {
      "name": "pose-estimation",
      "provenance": [],
      "include_colab_link": true
    },
    "kernelspec": {
      "name": "python3",
      "display_name": "Python 3"
    },
    "accelerator": "GPU"
  },
  "cells": [
    {
      "cell_type": "markdown",
      "metadata": {
        "id": "view-in-github",
        "colab_type": "text"
      },
      "source": [
        "<a href=\"https://colab.research.google.com/github/fubarlabs/aistudygroup/blob/master/pose_estimation.ipynb\" target=\"_parent\"><img src=\"https://colab.research.google.com/assets/colab-badge.svg\" alt=\"Open In Colab\"/></a>"
      ]
    },
    {
      "cell_type": "markdown",
      "metadata": {
        "id": "ebIKr1mDwMx8",
        "colab_type": "text"
      },
      "source": [
        "# Pose Estimation for Ai Stdy group\n"
      ]
    },
    {
      "cell_type": "code",
      "metadata": {
        "id": "B1lYlyibwBBE",
        "colab_type": "code",
        "outputId": "6b1d0e05-60ac-4b41-df3c-cbf92bbb5b88",
        "colab": {
          "base_uri": "https://localhost:8080/",
          "height": 35
        }
      },
      "source": [
        "print(\"hello world\")"
      ],
      "execution_count": 2,
      "outputs": [
        {
          "output_type": "stream",
          "text": [
            "hello world\n"
          ],
          "name": "stdout"
        }
      ]
    },
    {
      "cell_type": "code",
      "metadata": {
        "id": "Goya6Z1h4_tA",
        "colab_type": "code",
        "colab": {
          "base_uri": "https://localhost:8080/",
          "height": 109
        },
        "outputId": "f446f8bf-e1d4-456a-92d9-097ecdedd429"
      },
      "source": [
        "!git clone https://github.com/ildoonet/tf-pose-estimation/\n",
        "!cd tf-pose-estimation"
      ],
      "execution_count": 3,
      "outputs": [
        {
          "output_type": "stream",
          "text": [
            "Cloning into 'tf-pose-estimation'...\n",
            "remote: Enumerating objects: 1362, done.\u001b[K\n",
            "remote: Total 1362 (delta 0), reused 0 (delta 0), pack-reused 1362\u001b[K\n",
            "Receiving objects: 100% (1362/1362), 94.13 MiB | 11.97 MiB/s, done.\n",
            "Resolving deltas: 100% (729/729), done.\n"
          ],
          "name": "stdout"
        }
      ]
    },
    {
      "cell_type": "code",
      "metadata": {
        "id": "ibwM7kp25s7u",
        "colab_type": "code",
        "colab": {
          "base_uri": "https://localhost:8080/",
          "height": 72
        },
        "outputId": "b8b45bc1-38b5-44a0-e9d9-1919cc696e9c"
      },
      "source": [
        "!pwd\n",
        "!ls\n",
        "%cd tf-pose-estimation"
      ],
      "execution_count": 5,
      "outputs": [
        {
          "output_type": "stream",
          "text": [
            "/content\n",
            "sample_data  tf-pose-estimation\n",
            "/content/tf-pose-estimation\n"
          ],
          "name": "stdout"
        }
      ]
    },
    {
      "cell_type": "code",
      "metadata": {
        "id": "tWGPMp2E6NhE",
        "colab_type": "code",
        "colab": {
          "base_uri": "https://localhost:8080/",
          "height": 35
        },
        "outputId": "415e3848-c25a-4024-c72c-d26851d40329"
      },
      "source": [
        "!pwd\n"
      ],
      "execution_count": 6,
      "outputs": [
        {
          "output_type": "stream",
          "text": [
            "/content/tf-pose-estimation\n"
          ],
          "name": "stdout"
        }
      ]
    }
  ]
}